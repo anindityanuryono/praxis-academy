{
 "cells": [
  {
   "cell_type": "code",
   "execution_count": 1,
   "metadata": {
    "collapsed": true,
    "pycharm": {
     "is_executing": false
    }
   },
   "outputs": [],
   "source": [
    "import statsmodels.api as sm\n",
    "data = sm.datasets.longley.load_pandas()"
   ]
  },
  {
   "cell_type": "code",
   "execution_count": 3,
   "outputs": [
    {
     "data": {
      "text/plain": "     TOTEMP  GNPDEFL       GNP   UNEMP   ARMED       POP    YEAR\n0   60323.0     83.0  234289.0  2356.0  1590.0  107608.0  1947.0\n1   61122.0     88.5  259426.0  2325.0  1456.0  108632.0  1948.0\n2   60171.0     88.2  258054.0  3682.0  1616.0  109773.0  1949.0\n3   61187.0     89.5  284599.0  3351.0  1650.0  110929.0  1950.0\n4   63221.0     96.2  328975.0  2099.0  3099.0  112075.0  1951.0\n5   63639.0     98.1  346999.0  1932.0  3594.0  113270.0  1952.0\n6   64989.0     99.0  365385.0  1870.0  3547.0  115094.0  1953.0\n7   63761.0    100.0  363112.0  3578.0  3350.0  116219.0  1954.0\n8   66019.0    101.2  397469.0  2904.0  3048.0  117388.0  1955.0\n9   67857.0    104.6  419180.0  2822.0  2857.0  118734.0  1956.0\n10  68169.0    108.4  442769.0  2936.0  2798.0  120445.0  1957.0\n11  66513.0    110.8  444546.0  4681.0  2637.0  121950.0  1958.0\n12  68655.0    112.6  482704.0  3813.0  2552.0  123366.0  1959.0\n13  69564.0    114.2  502601.0  3931.0  2514.0  125368.0  1960.0\n14  69331.0    115.7  518173.0  4806.0  2572.0  127852.0  1961.0\n15  70551.0    116.9  554894.0  4007.0  2827.0  130081.0  1962.0",
      "text/html": "<div>\n<style scoped>\n    .dataframe tbody tr th:only-of-type {\n        vertical-align: middle;\n    }\n\n    .dataframe tbody tr th {\n        vertical-align: top;\n    }\n\n    .dataframe thead th {\n        text-align: right;\n    }\n</style>\n<table border=\"1\" class=\"dataframe\">\n  <thead>\n    <tr style=\"text-align: right;\">\n      <th></th>\n      <th>TOTEMP</th>\n      <th>GNPDEFL</th>\n      <th>GNP</th>\n      <th>UNEMP</th>\n      <th>ARMED</th>\n      <th>POP</th>\n      <th>YEAR</th>\n    </tr>\n  </thead>\n  <tbody>\n    <tr>\n      <td>0</td>\n      <td>60323.0</td>\n      <td>83.0</td>\n      <td>234289.0</td>\n      <td>2356.0</td>\n      <td>1590.0</td>\n      <td>107608.0</td>\n      <td>1947.0</td>\n    </tr>\n    <tr>\n      <td>1</td>\n      <td>61122.0</td>\n      <td>88.5</td>\n      <td>259426.0</td>\n      <td>2325.0</td>\n      <td>1456.0</td>\n      <td>108632.0</td>\n      <td>1948.0</td>\n    </tr>\n    <tr>\n      <td>2</td>\n      <td>60171.0</td>\n      <td>88.2</td>\n      <td>258054.0</td>\n      <td>3682.0</td>\n      <td>1616.0</td>\n      <td>109773.0</td>\n      <td>1949.0</td>\n    </tr>\n    <tr>\n      <td>3</td>\n      <td>61187.0</td>\n      <td>89.5</td>\n      <td>284599.0</td>\n      <td>3351.0</td>\n      <td>1650.0</td>\n      <td>110929.0</td>\n      <td>1950.0</td>\n    </tr>\n    <tr>\n      <td>4</td>\n      <td>63221.0</td>\n      <td>96.2</td>\n      <td>328975.0</td>\n      <td>2099.0</td>\n      <td>3099.0</td>\n      <td>112075.0</td>\n      <td>1951.0</td>\n    </tr>\n    <tr>\n      <td>5</td>\n      <td>63639.0</td>\n      <td>98.1</td>\n      <td>346999.0</td>\n      <td>1932.0</td>\n      <td>3594.0</td>\n      <td>113270.0</td>\n      <td>1952.0</td>\n    </tr>\n    <tr>\n      <td>6</td>\n      <td>64989.0</td>\n      <td>99.0</td>\n      <td>365385.0</td>\n      <td>1870.0</td>\n      <td>3547.0</td>\n      <td>115094.0</td>\n      <td>1953.0</td>\n    </tr>\n    <tr>\n      <td>7</td>\n      <td>63761.0</td>\n      <td>100.0</td>\n      <td>363112.0</td>\n      <td>3578.0</td>\n      <td>3350.0</td>\n      <td>116219.0</td>\n      <td>1954.0</td>\n    </tr>\n    <tr>\n      <td>8</td>\n      <td>66019.0</td>\n      <td>101.2</td>\n      <td>397469.0</td>\n      <td>2904.0</td>\n      <td>3048.0</td>\n      <td>117388.0</td>\n      <td>1955.0</td>\n    </tr>\n    <tr>\n      <td>9</td>\n      <td>67857.0</td>\n      <td>104.6</td>\n      <td>419180.0</td>\n      <td>2822.0</td>\n      <td>2857.0</td>\n      <td>118734.0</td>\n      <td>1956.0</td>\n    </tr>\n    <tr>\n      <td>10</td>\n      <td>68169.0</td>\n      <td>108.4</td>\n      <td>442769.0</td>\n      <td>2936.0</td>\n      <td>2798.0</td>\n      <td>120445.0</td>\n      <td>1957.0</td>\n    </tr>\n    <tr>\n      <td>11</td>\n      <td>66513.0</td>\n      <td>110.8</td>\n      <td>444546.0</td>\n      <td>4681.0</td>\n      <td>2637.0</td>\n      <td>121950.0</td>\n      <td>1958.0</td>\n    </tr>\n    <tr>\n      <td>12</td>\n      <td>68655.0</td>\n      <td>112.6</td>\n      <td>482704.0</td>\n      <td>3813.0</td>\n      <td>2552.0</td>\n      <td>123366.0</td>\n      <td>1959.0</td>\n    </tr>\n    <tr>\n      <td>13</td>\n      <td>69564.0</td>\n      <td>114.2</td>\n      <td>502601.0</td>\n      <td>3931.0</td>\n      <td>2514.0</td>\n      <td>125368.0</td>\n      <td>1960.0</td>\n    </tr>\n    <tr>\n      <td>14</td>\n      <td>69331.0</td>\n      <td>115.7</td>\n      <td>518173.0</td>\n      <td>4806.0</td>\n      <td>2572.0</td>\n      <td>127852.0</td>\n      <td>1961.0</td>\n    </tr>\n    <tr>\n      <td>15</td>\n      <td>70551.0</td>\n      <td>116.9</td>\n      <td>554894.0</td>\n      <td>4007.0</td>\n      <td>2827.0</td>\n      <td>130081.0</td>\n      <td>1962.0</td>\n    </tr>\n  </tbody>\n</table>\n</div>"
     },
     "metadata": {},
     "output_type": "execute_result",
     "execution_count": 3
    }
   ],
   "source": [
    "data.data"
   ],
   "metadata": {
    "collapsed": false,
    "pycharm": {
     "name": "#%%\n",
     "is_executing": false
    }
   }
  },
  {
   "cell_type": "code",
   "execution_count": 4,
   "outputs": [
    {
     "data": {
      "text/plain": "0    60323.0\n1    61122.0\n2    60171.0\n3    61187.0\n4    63221.0\nName: TOTEMP, dtype: float64"
     },
     "metadata": {},
     "output_type": "execute_result",
     "execution_count": 4
    }
   ],
   "source": [
    "data.endog.iloc[:5]"
   ],
   "metadata": {
    "collapsed": false,
    "pycharm": {
     "name": "#%%data\n",
     "is_executing": false
    }
   }
  },
  {
   "cell_type": "code",
   "execution_count": 5,
   "outputs": [
    {
     "data": {
      "text/plain": "   GNPDEFL       GNP   UNEMP   ARMED       POP    YEAR\n0     83.0  234289.0  2356.0  1590.0  107608.0  1947.0\n1     88.5  259426.0  2325.0  1456.0  108632.0  1948.0\n2     88.2  258054.0  3682.0  1616.0  109773.0  1949.0\n3     89.5  284599.0  3351.0  1650.0  110929.0  1950.0\n4     96.2  328975.0  2099.0  3099.0  112075.0  1951.0",
      "text/html": "<div>\n<style scoped>\n    .dataframe tbody tr th:only-of-type {\n        vertical-align: middle;\n    }\n\n    .dataframe tbody tr th {\n        vertical-align: top;\n    }\n\n    .dataframe thead th {\n        text-align: right;\n    }\n</style>\n<table border=\"1\" class=\"dataframe\">\n  <thead>\n    <tr style=\"text-align: right;\">\n      <th></th>\n      <th>GNPDEFL</th>\n      <th>GNP</th>\n      <th>UNEMP</th>\n      <th>ARMED</th>\n      <th>POP</th>\n      <th>YEAR</th>\n    </tr>\n  </thead>\n  <tbody>\n    <tr>\n      <td>0</td>\n      <td>83.0</td>\n      <td>234289.0</td>\n      <td>2356.0</td>\n      <td>1590.0</td>\n      <td>107608.0</td>\n      <td>1947.0</td>\n    </tr>\n    <tr>\n      <td>1</td>\n      <td>88.5</td>\n      <td>259426.0</td>\n      <td>2325.0</td>\n      <td>1456.0</td>\n      <td>108632.0</td>\n      <td>1948.0</td>\n    </tr>\n    <tr>\n      <td>2</td>\n      <td>88.2</td>\n      <td>258054.0</td>\n      <td>3682.0</td>\n      <td>1616.0</td>\n      <td>109773.0</td>\n      <td>1949.0</td>\n    </tr>\n    <tr>\n      <td>3</td>\n      <td>89.5</td>\n      <td>284599.0</td>\n      <td>3351.0</td>\n      <td>1650.0</td>\n      <td>110929.0</td>\n      <td>1950.0</td>\n    </tr>\n    <tr>\n      <td>4</td>\n      <td>96.2</td>\n      <td>328975.0</td>\n      <td>2099.0</td>\n      <td>3099.0</td>\n      <td>112075.0</td>\n      <td>1951.0</td>\n    </tr>\n  </tbody>\n</table>\n</div>"
     },
     "metadata": {},
     "output_type": "execute_result",
     "execution_count": 5
    }
   ],
   "source": [
    "data.exog.iloc[:5,:]"
   ],
   "metadata": {
    "collapsed": false,
    "pycharm": {
     "name": "#%%\n",
     "is_executing": false
    }
   }
  },
  {
   "cell_type": "code",
   "execution_count": 6,
   "outputs": [
    {
     "data": {
      "text/plain": "'TOTEMP'"
     },
     "metadata": {},
     "output_type": "execute_result",
     "execution_count": 6
    }
   ],
   "source": [
    "data.endog_name"
   ],
   "metadata": {
    "collapsed": false,
    "pycharm": {
     "name": "#%%\n",
     "is_executing": false
    }
   }
  },
  {
   "cell_type": "code",
   "execution_count": 7,
   "outputs": [
    {
     "data": {
      "text/plain": "['GNPDEFL', 'GNP', 'UNEMP', 'ARMED', 'POP', 'YEAR']"
     },
     "metadata": {},
     "output_type": "execute_result",
     "execution_count": 7
    }
   ],
   "source": [
    "data.exog_name"
   ],
   "metadata": {
    "collapsed": false,
    "pycharm": {
     "name": "#%%\n",
     "is_executing": false
    }
   }
  },
  {
   "cell_type": "code",
   "execution_count": 8,
   "outputs": [
    {
     "data": {
      "text/plain": "pandas.core.frame.DataFrame"
     },
     "metadata": {},
     "output_type": "execute_result",
     "execution_count": 8
    }
   ],
   "source": [
    "type(data.data)"
   ],
   "metadata": {
    "collapsed": false,
    "pycharm": {
     "name": "#%%\n",
     "is_executing": false
    }
   }
  },
  {
   "cell_type": "code",
   "execution_count": 9,
   "outputs": [
    {
     "data": {
      "text/plain": "pandas.core.frame.DataFrame"
     },
     "metadata": {},
     "output_type": "execute_result",
     "execution_count": 9
    }
   ],
   "source": [
    "type(data.raw_data)"
   ],
   "metadata": {
    "collapsed": false,
    "pycharm": {
     "name": "#%%\n",
     "is_executing": false
    }
   }
  },
  {
   "cell_type": "code",
   "execution_count": 10,
   "outputs": [
    {
     "data": {
      "text/plain": "['TOTEMP', 'GNPDEFL', 'GNP', 'UNEMP', 'ARMED', 'POP', 'YEAR']"
     },
     "metadata": {},
     "output_type": "execute_result",
     "execution_count": 10
    }
   ],
   "source": [
    "data.names"
   ],
   "metadata": {
    "collapsed": false,
    "pycharm": {
     "name": "#%%\n",
     "is_executing": false
    }
   }
  },
  {
   "cell_type": "code",
   "execution_count": 11,
   "outputs": [],
   "source": [
    "data = sm.datasets.longley.load_pandas()"
   ],
   "metadata": {
    "collapsed": false,
    "pycharm": {
     "name": "#%%\n",
     "is_executing": false
    }
   }
  },
  {
   "cell_type": "code",
   "execution_count": 12,
   "outputs": [
    {
     "data": {
      "text/plain": "    GNPDEFL       GNP   UNEMP   ARMED       POP    YEAR\n0      83.0  234289.0  2356.0  1590.0  107608.0  1947.0\n1      88.5  259426.0  2325.0  1456.0  108632.0  1948.0\n2      88.2  258054.0  3682.0  1616.0  109773.0  1949.0\n3      89.5  284599.0  3351.0  1650.0  110929.0  1950.0\n4      96.2  328975.0  2099.0  3099.0  112075.0  1951.0\n5      98.1  346999.0  1932.0  3594.0  113270.0  1952.0\n6      99.0  365385.0  1870.0  3547.0  115094.0  1953.0\n7     100.0  363112.0  3578.0  3350.0  116219.0  1954.0\n8     101.2  397469.0  2904.0  3048.0  117388.0  1955.0\n9     104.6  419180.0  2822.0  2857.0  118734.0  1956.0\n10    108.4  442769.0  2936.0  2798.0  120445.0  1957.0\n11    110.8  444546.0  4681.0  2637.0  121950.0  1958.0\n12    112.6  482704.0  3813.0  2552.0  123366.0  1959.0\n13    114.2  502601.0  3931.0  2514.0  125368.0  1960.0\n14    115.7  518173.0  4806.0  2572.0  127852.0  1961.0\n15    116.9  554894.0  4007.0  2827.0  130081.0  1962.0",
      "text/html": "<div>\n<style scoped>\n    .dataframe tbody tr th:only-of-type {\n        vertical-align: middle;\n    }\n\n    .dataframe tbody tr th {\n        vertical-align: top;\n    }\n\n    .dataframe thead th {\n        text-align: right;\n    }\n</style>\n<table border=\"1\" class=\"dataframe\">\n  <thead>\n    <tr style=\"text-align: right;\">\n      <th></th>\n      <th>GNPDEFL</th>\n      <th>GNP</th>\n      <th>UNEMP</th>\n      <th>ARMED</th>\n      <th>POP</th>\n      <th>YEAR</th>\n    </tr>\n  </thead>\n  <tbody>\n    <tr>\n      <td>0</td>\n      <td>83.0</td>\n      <td>234289.0</td>\n      <td>2356.0</td>\n      <td>1590.0</td>\n      <td>107608.0</td>\n      <td>1947.0</td>\n    </tr>\n    <tr>\n      <td>1</td>\n      <td>88.5</td>\n      <td>259426.0</td>\n      <td>2325.0</td>\n      <td>1456.0</td>\n      <td>108632.0</td>\n      <td>1948.0</td>\n    </tr>\n    <tr>\n      <td>2</td>\n      <td>88.2</td>\n      <td>258054.0</td>\n      <td>3682.0</td>\n      <td>1616.0</td>\n      <td>109773.0</td>\n      <td>1949.0</td>\n    </tr>\n    <tr>\n      <td>3</td>\n      <td>89.5</td>\n      <td>284599.0</td>\n      <td>3351.0</td>\n      <td>1650.0</td>\n      <td>110929.0</td>\n      <td>1950.0</td>\n    </tr>\n    <tr>\n      <td>4</td>\n      <td>96.2</td>\n      <td>328975.0</td>\n      <td>2099.0</td>\n      <td>3099.0</td>\n      <td>112075.0</td>\n      <td>1951.0</td>\n    </tr>\n    <tr>\n      <td>5</td>\n      <td>98.1</td>\n      <td>346999.0</td>\n      <td>1932.0</td>\n      <td>3594.0</td>\n      <td>113270.0</td>\n      <td>1952.0</td>\n    </tr>\n    <tr>\n      <td>6</td>\n      <td>99.0</td>\n      <td>365385.0</td>\n      <td>1870.0</td>\n      <td>3547.0</td>\n      <td>115094.0</td>\n      <td>1953.0</td>\n    </tr>\n    <tr>\n      <td>7</td>\n      <td>100.0</td>\n      <td>363112.0</td>\n      <td>3578.0</td>\n      <td>3350.0</td>\n      <td>116219.0</td>\n      <td>1954.0</td>\n    </tr>\n    <tr>\n      <td>8</td>\n      <td>101.2</td>\n      <td>397469.0</td>\n      <td>2904.0</td>\n      <td>3048.0</td>\n      <td>117388.0</td>\n      <td>1955.0</td>\n    </tr>\n    <tr>\n      <td>9</td>\n      <td>104.6</td>\n      <td>419180.0</td>\n      <td>2822.0</td>\n      <td>2857.0</td>\n      <td>118734.0</td>\n      <td>1956.0</td>\n    </tr>\n    <tr>\n      <td>10</td>\n      <td>108.4</td>\n      <td>442769.0</td>\n      <td>2936.0</td>\n      <td>2798.0</td>\n      <td>120445.0</td>\n      <td>1957.0</td>\n    </tr>\n    <tr>\n      <td>11</td>\n      <td>110.8</td>\n      <td>444546.0</td>\n      <td>4681.0</td>\n      <td>2637.0</td>\n      <td>121950.0</td>\n      <td>1958.0</td>\n    </tr>\n    <tr>\n      <td>12</td>\n      <td>112.6</td>\n      <td>482704.0</td>\n      <td>3813.0</td>\n      <td>2552.0</td>\n      <td>123366.0</td>\n      <td>1959.0</td>\n    </tr>\n    <tr>\n      <td>13</td>\n      <td>114.2</td>\n      <td>502601.0</td>\n      <td>3931.0</td>\n      <td>2514.0</td>\n      <td>125368.0</td>\n      <td>1960.0</td>\n    </tr>\n    <tr>\n      <td>14</td>\n      <td>115.7</td>\n      <td>518173.0</td>\n      <td>4806.0</td>\n      <td>2572.0</td>\n      <td>127852.0</td>\n      <td>1961.0</td>\n    </tr>\n    <tr>\n      <td>15</td>\n      <td>116.9</td>\n      <td>554894.0</td>\n      <td>4007.0</td>\n      <td>2827.0</td>\n      <td>130081.0</td>\n      <td>1962.0</td>\n    </tr>\n  </tbody>\n</table>\n</div>"
     },
     "metadata": {},
     "output_type": "execute_result",
     "execution_count": 12
    }
   ],
   "source": [
    "data.exog"
   ],
   "metadata": {
    "collapsed": false,
    "pycharm": {
     "name": "#%%\n",
     "is_executing": false
    }
   }
  },
  {
   "cell_type": "code",
   "execution_count": 13,
   "outputs": [
    {
     "data": {
      "text/plain": "0     60323.0\n1     61122.0\n2     60171.0\n3     61187.0\n4     63221.0\n5     63639.0\n6     64989.0\n7     63761.0\n8     66019.0\n9     67857.0\n10    68169.0\n11    66513.0\n12    68655.0\n13    69564.0\n14    69331.0\n15    70551.0\nName: TOTEMP, dtype: float64"
     },
     "metadata": {},
     "output_type": "execute_result",
     "execution_count": 13
    }
   ],
   "source": [
    "data.endog"
   ],
   "metadata": {
    "collapsed": false,
    "pycharm": {
     "name": "#%%\n",
     "is_executing": false
    }
   }
  },
  {
   "cell_type": "code",
   "execution_count": 14,
   "outputs": [
    {
     "data": {
      "text/plain": "     TOTEMP  GNPDEFL       GNP   UNEMP   ARMED       POP    YEAR\n0   60323.0     83.0  234289.0  2356.0  1590.0  107608.0  1947.0\n1   61122.0     88.5  259426.0  2325.0  1456.0  108632.0  1948.0\n2   60171.0     88.2  258054.0  3682.0  1616.0  109773.0  1949.0\n3   61187.0     89.5  284599.0  3351.0  1650.0  110929.0  1950.0\n4   63221.0     96.2  328975.0  2099.0  3099.0  112075.0  1951.0\n5   63639.0     98.1  346999.0  1932.0  3594.0  113270.0  1952.0\n6   64989.0     99.0  365385.0  1870.0  3547.0  115094.0  1953.0\n7   63761.0    100.0  363112.0  3578.0  3350.0  116219.0  1954.0\n8   66019.0    101.2  397469.0  2904.0  3048.0  117388.0  1955.0\n9   67857.0    104.6  419180.0  2822.0  2857.0  118734.0  1956.0\n10  68169.0    108.4  442769.0  2936.0  2798.0  120445.0  1957.0\n11  66513.0    110.8  444546.0  4681.0  2637.0  121950.0  1958.0\n12  68655.0    112.6  482704.0  3813.0  2552.0  123366.0  1959.0\n13  69564.0    114.2  502601.0  3931.0  2514.0  125368.0  1960.0\n14  69331.0    115.7  518173.0  4806.0  2572.0  127852.0  1961.0\n15  70551.0    116.9  554894.0  4007.0  2827.0  130081.0  1962.0",
      "text/html": "<div>\n<style scoped>\n    .dataframe tbody tr th:only-of-type {\n        vertical-align: middle;\n    }\n\n    .dataframe tbody tr th {\n        vertical-align: top;\n    }\n\n    .dataframe thead th {\n        text-align: right;\n    }\n</style>\n<table border=\"1\" class=\"dataframe\">\n  <thead>\n    <tr style=\"text-align: right;\">\n      <th></th>\n      <th>TOTEMP</th>\n      <th>GNPDEFL</th>\n      <th>GNP</th>\n      <th>UNEMP</th>\n      <th>ARMED</th>\n      <th>POP</th>\n      <th>YEAR</th>\n    </tr>\n  </thead>\n  <tbody>\n    <tr>\n      <td>0</td>\n      <td>60323.0</td>\n      <td>83.0</td>\n      <td>234289.0</td>\n      <td>2356.0</td>\n      <td>1590.0</td>\n      <td>107608.0</td>\n      <td>1947.0</td>\n    </tr>\n    <tr>\n      <td>1</td>\n      <td>61122.0</td>\n      <td>88.5</td>\n      <td>259426.0</td>\n      <td>2325.0</td>\n      <td>1456.0</td>\n      <td>108632.0</td>\n      <td>1948.0</td>\n    </tr>\n    <tr>\n      <td>2</td>\n      <td>60171.0</td>\n      <td>88.2</td>\n      <td>258054.0</td>\n      <td>3682.0</td>\n      <td>1616.0</td>\n      <td>109773.0</td>\n      <td>1949.0</td>\n    </tr>\n    <tr>\n      <td>3</td>\n      <td>61187.0</td>\n      <td>89.5</td>\n      <td>284599.0</td>\n      <td>3351.0</td>\n      <td>1650.0</td>\n      <td>110929.0</td>\n      <td>1950.0</td>\n    </tr>\n    <tr>\n      <td>4</td>\n      <td>63221.0</td>\n      <td>96.2</td>\n      <td>328975.0</td>\n      <td>2099.0</td>\n      <td>3099.0</td>\n      <td>112075.0</td>\n      <td>1951.0</td>\n    </tr>\n    <tr>\n      <td>5</td>\n      <td>63639.0</td>\n      <td>98.1</td>\n      <td>346999.0</td>\n      <td>1932.0</td>\n      <td>3594.0</td>\n      <td>113270.0</td>\n      <td>1952.0</td>\n    </tr>\n    <tr>\n      <td>6</td>\n      <td>64989.0</td>\n      <td>99.0</td>\n      <td>365385.0</td>\n      <td>1870.0</td>\n      <td>3547.0</td>\n      <td>115094.0</td>\n      <td>1953.0</td>\n    </tr>\n    <tr>\n      <td>7</td>\n      <td>63761.0</td>\n      <td>100.0</td>\n      <td>363112.0</td>\n      <td>3578.0</td>\n      <td>3350.0</td>\n      <td>116219.0</td>\n      <td>1954.0</td>\n    </tr>\n    <tr>\n      <td>8</td>\n      <td>66019.0</td>\n      <td>101.2</td>\n      <td>397469.0</td>\n      <td>2904.0</td>\n      <td>3048.0</td>\n      <td>117388.0</td>\n      <td>1955.0</td>\n    </tr>\n    <tr>\n      <td>9</td>\n      <td>67857.0</td>\n      <td>104.6</td>\n      <td>419180.0</td>\n      <td>2822.0</td>\n      <td>2857.0</td>\n      <td>118734.0</td>\n      <td>1956.0</td>\n    </tr>\n    <tr>\n      <td>10</td>\n      <td>68169.0</td>\n      <td>108.4</td>\n      <td>442769.0</td>\n      <td>2936.0</td>\n      <td>2798.0</td>\n      <td>120445.0</td>\n      <td>1957.0</td>\n    </tr>\n    <tr>\n      <td>11</td>\n      <td>66513.0</td>\n      <td>110.8</td>\n      <td>444546.0</td>\n      <td>4681.0</td>\n      <td>2637.0</td>\n      <td>121950.0</td>\n      <td>1958.0</td>\n    </tr>\n    <tr>\n      <td>12</td>\n      <td>68655.0</td>\n      <td>112.6</td>\n      <td>482704.0</td>\n      <td>3813.0</td>\n      <td>2552.0</td>\n      <td>123366.0</td>\n      <td>1959.0</td>\n    </tr>\n    <tr>\n      <td>13</td>\n      <td>69564.0</td>\n      <td>114.2</td>\n      <td>502601.0</td>\n      <td>3931.0</td>\n      <td>2514.0</td>\n      <td>125368.0</td>\n      <td>1960.0</td>\n    </tr>\n    <tr>\n      <td>14</td>\n      <td>69331.0</td>\n      <td>115.7</td>\n      <td>518173.0</td>\n      <td>4806.0</td>\n      <td>2572.0</td>\n      <td>127852.0</td>\n      <td>1961.0</td>\n    </tr>\n    <tr>\n      <td>15</td>\n      <td>70551.0</td>\n      <td>116.9</td>\n      <td>554894.0</td>\n      <td>4007.0</td>\n      <td>2827.0</td>\n      <td>130081.0</td>\n      <td>1962.0</td>\n    </tr>\n  </tbody>\n</table>\n</div>"
     },
     "metadata": {},
     "output_type": "execute_result",
     "execution_count": 14
    }
   ],
   "source": [
    "data.data"
   ],
   "metadata": {
    "collapsed": false,
    "pycharm": {
     "name": "#%%\n",
     "is_executing": false
    }
   }
  },
  {
   "cell_type": "code",
   "execution_count": 15,
   "outputs": [],
   "source": [
    "y, x = data.endog, data.exog"
   ],
   "metadata": {
    "collapsed": false,
    "pycharm": {
     "name": "#%%\n",
     "is_executing": false
    }
   }
  },
  {
   "cell_type": "code",
   "execution_count": 16,
   "outputs": [],
   "source": [
    "res = sm.OLS(y, x).fit()"
   ],
   "metadata": {
    "collapsed": false,
    "pycharm": {
     "name": "#%%\n",
     "is_executing": false
    }
   }
  },
  {
   "cell_type": "code",
   "execution_count": 17,
   "outputs": [
    {
     "data": {
      "text/plain": "GNPDEFL   -52.993570\nGNP         0.071073\nUNEMP      -0.423466\nARMED      -0.572569\nPOP        -0.414204\nYEAR       48.417866\ndtype: float64"
     },
     "metadata": {},
     "output_type": "execute_result",
     "execution_count": 17
    }
   ],
   "source": [
    "res.params"
   ],
   "metadata": {
    "collapsed": false,
    "pycharm": {
     "name": "#%%\n",
     "is_executing": false
    }
   }
  },
  {
   "cell_type": "code",
   "execution_count": 18,
   "outputs": [
    {
     "name": "stderr",
     "text": [
      "C:\\Users\\Aninditya\\Anaconda3\\lib\\site-packages\\scipy\\stats\\stats.py:1450: UserWarning: kurtosistest only valid for n>=20 ... continuing anyway, n=16\n  \"anyway, n=%i\" % int(n))\n"
     ],
     "output_type": "stream"
    },
    {
     "data": {
      "text/plain": "<class 'statsmodels.iolib.summary.Summary'>\n\"\"\"\n                                 OLS Regression Results                                \n=======================================================================================\nDep. Variable:                 TOTEMP   R-squared (uncentered):                   1.000\nModel:                            OLS   Adj. R-squared (uncentered):              1.000\nMethod:                 Least Squares   F-statistic:                          5.052e+04\nDate:                Tue, 10 Dec 2019   Prob (F-statistic):                    8.20e-22\nTime:                        09:55:31   Log-Likelihood:                         -117.56\nNo. Observations:                  16   AIC:                                      247.1\nDf Residuals:                      10   BIC:                                      251.8\nDf Model:                           6                                                  \nCovariance Type:            nonrobust                                                  \n==============================================================================\n                 coef    std err          t      P>|t|      [0.025      0.975]\n------------------------------------------------------------------------------\nGNPDEFL      -52.9936    129.545     -0.409      0.691    -341.638     235.650\nGNP            0.0711      0.030      2.356      0.040       0.004       0.138\nUNEMP         -0.4235      0.418     -1.014      0.335      -1.354       0.507\nARMED         -0.5726      0.279     -2.052      0.067      -1.194       0.049\nPOP           -0.4142      0.321     -1.289      0.226      -1.130       0.302\nYEAR          48.4179     17.689      2.737      0.021       9.003      87.832\n==============================================================================\nOmnibus:                        1.443   Durbin-Watson:                   1.277\nProb(Omnibus):                  0.486   Jarque-Bera (JB):                0.605\nSkew:                           0.476   Prob(JB):                        0.739\nKurtosis:                       3.031   Cond. No.                     4.56e+05\n==============================================================================\n\nWarnings:\n[1] Standard Errors assume that the covariance matrix of the errors is correctly specified.\n[2] The condition number is large, 4.56e+05. This might indicate that there are\nstrong multicollinearity or other numerical problems.\n\"\"\"",
      "text/html": "<table class=\"simpletable\">\n<caption>OLS Regression Results</caption>\n<tr>\n  <th>Dep. Variable:</th>         <td>TOTEMP</td>      <th>  R-squared (uncentered):</th>      <td>   1.000</td> \n</tr>\n<tr>\n  <th>Model:</th>                   <td>OLS</td>       <th>  Adj. R-squared (uncentered):</th> <td>   1.000</td> \n</tr>\n<tr>\n  <th>Method:</th>             <td>Least Squares</td>  <th>  F-statistic:       </th>          <td>5.052e+04</td>\n</tr>\n<tr>\n  <th>Date:</th>             <td>Tue, 10 Dec 2019</td> <th>  Prob (F-statistic):</th>          <td>8.20e-22</td> \n</tr>\n<tr>\n  <th>Time:</th>                 <td>09:55:31</td>     <th>  Log-Likelihood:    </th>          <td> -117.56</td> \n</tr>\n<tr>\n  <th>No. Observations:</th>      <td>    16</td>      <th>  AIC:               </th>          <td>   247.1</td> \n</tr>\n<tr>\n  <th>Df Residuals:</th>          <td>    10</td>      <th>  BIC:               </th>          <td>   251.8</td> \n</tr>\n<tr>\n  <th>Df Model:</th>              <td>     6</td>      <th>                     </th>              <td> </td>    \n</tr>\n<tr>\n  <th>Covariance Type:</th>      <td>nonrobust</td>    <th>                     </th>              <td> </td>    \n</tr>\n</table>\n<table class=\"simpletable\">\n<tr>\n     <td></td>        <th>coef</th>     <th>std err</th>      <th>t</th>      <th>P>|t|</th>  <th>[0.025</th>    <th>0.975]</th>  \n</tr>\n<tr>\n  <th>GNPDEFL</th> <td>  -52.9936</td> <td>  129.545</td> <td>   -0.409</td> <td> 0.691</td> <td> -341.638</td> <td>  235.650</td>\n</tr>\n<tr>\n  <th>GNP</th>     <td>    0.0711</td> <td>    0.030</td> <td>    2.356</td> <td> 0.040</td> <td>    0.004</td> <td>    0.138</td>\n</tr>\n<tr>\n  <th>UNEMP</th>   <td>   -0.4235</td> <td>    0.418</td> <td>   -1.014</td> <td> 0.335</td> <td>   -1.354</td> <td>    0.507</td>\n</tr>\n<tr>\n  <th>ARMED</th>   <td>   -0.5726</td> <td>    0.279</td> <td>   -2.052</td> <td> 0.067</td> <td>   -1.194</td> <td>    0.049</td>\n</tr>\n<tr>\n  <th>POP</th>     <td>   -0.4142</td> <td>    0.321</td> <td>   -1.289</td> <td> 0.226</td> <td>   -1.130</td> <td>    0.302</td>\n</tr>\n<tr>\n  <th>YEAR</th>    <td>   48.4179</td> <td>   17.689</td> <td>    2.737</td> <td> 0.021</td> <td>    9.003</td> <td>   87.832</td>\n</tr>\n</table>\n<table class=\"simpletable\">\n<tr>\n  <th>Omnibus:</th>       <td> 1.443</td> <th>  Durbin-Watson:     </th> <td>   1.277</td>\n</tr>\n<tr>\n  <th>Prob(Omnibus):</th> <td> 0.486</td> <th>  Jarque-Bera (JB):  </th> <td>   0.605</td>\n</tr>\n<tr>\n  <th>Skew:</th>          <td> 0.476</td> <th>  Prob(JB):          </th> <td>   0.739</td>\n</tr>\n<tr>\n  <th>Kurtosis:</th>      <td> 3.031</td> <th>  Cond. No.          </th> <td>4.56e+05</td>\n</tr>\n</table><br/><br/>Warnings:<br/>[1] Standard Errors assume that the covariance matrix of the errors is correctly specified.<br/>[2] The condition number is large, 4.56e+05. This might indicate that there are<br/>strong multicollinearity or other numerical problems."
     },
     "metadata": {},
     "output_type": "execute_result",
     "execution_count": 18
    }
   ],
   "source": [
    "res.summary()"
   ],
   "metadata": {
    "collapsed": false,
    "pycharm": {
     "name": "#%%\n",
     "is_executing": false
    }
   }
  },
  {
   "cell_type": "code",
   "execution_count": 19,
   "outputs": [
    {
     "data": {
      "text/plain": "['COPYRIGHT', 'DESCRLONG', 'DESCRSHORT', 'NOTE', 'SOURCE', 'TITLE']"
     },
     "metadata": {},
     "output_type": "execute_result",
     "execution_count": 19
    }
   ],
   "source": [
    "dir(sm.datasets.longley)[:6]"
   ],
   "metadata": {
    "collapsed": false,
    "pycharm": {
     "name": "#%%\n",
     "is_executing": false
    }
   }
  },
  {
   "cell_type": "code",
   "execution_count": null,
   "outputs": [],
   "source": [
    "\n"
   ],
   "metadata": {
    "collapsed": false,
    "pycharm": {
     "name": "#%%\n"
    }
   }
  }
 ],
 "metadata": {
  "kernelspec": {
   "display_name": "Python 3",
   "language": "python",
   "name": "python3"
  },
  "language_info": {
   "codemirror_mode": {
    "name": "ipython",
    "version": 2
   },
   "file_extension": ".py",
   "mimetype": "text/x-python",
   "name": "python",
   "nbconvert_exporter": "python",
   "pygments_lexer": "ipython2",
   "version": "2.7.6"
  },
  "pycharm": {
   "stem_cell": {
    "cell_type": "raw",
    "source": [],
    "metadata": {
     "collapsed": false
    }
   }
  }
 },
 "nbformat": 4,
 "nbformat_minor": 0
}