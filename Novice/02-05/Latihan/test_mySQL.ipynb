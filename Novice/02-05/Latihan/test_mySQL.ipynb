{
 "cells": [
  {
   "cell_type": "code",
   "execution_count": 5,
   "outputs": [
    {
     "name": "stdout",
     "text": [
      "Berhasil terhubung ke database\n"
     ],
     "output_type": "stream"
    }
   ],
   "source": [
    "import mysql.connector\n",
    "db = mysql.connector.connect(\n",
    "  host=\"localhost\",\n",
    "  user=\"root\",\n",
    "  passwd=\"admin\"\n",
    ")\n",
    "if db.is_connected():\n",
    "  print(\"Berhasil terhubung ke database\")"
   ],
   "metadata": {
    "collapsed": false,
    "pycharm": {
     "name": "#%%\n",
     "is_executing": false
    }
   }
  },
  {
   "cell_type": "code",
   "execution_count": 4,
   "outputs": [
    {
     "name": "stdout",
     "text": [
      "Package                            Version    \n---------------------------------- -----------\nabsl-py                            0.8.1      \naiohttp                            3.6.2      \naiomysql                           0.0.20     \nalabaster                          0.7.12     \nanaconda-client                    1.7.2      \nanaconda-navigator                 1.9.7      \nanaconda-project                   0.8.3      \nasn1crypto                         1.0.1      \nastor                              0.7.1      \nastroid                            2.3.1      \nastropy                            3.2.1      \nasync-timeout                      3.0.1      \natomicwrites                       1.3.0      \nattrs                              19.2.0     \nBabel                              2.7.0      \nbackcall                           0.1.0      \nbackports.functools-lru-cache      1.5        \nbackports.os                       0.1.1      \nbackports.shutil-get-terminal-size 1.0.0      \nbackports.tempfile                 1.0        \nbackports.weakref                  1.0.post1  \nbandit                             1.6.2      \nbeautifulsoup4                     4.8.0      \nbitarray                           1.0.1      \nbkcharts                           0.2        \nbleach                             3.1.0      \nbokeh                              1.3.4      \nboto                               2.49.0     \nboto3                              1.10.35    \nbotocore                           1.13.35    \nBottleneck                         1.2.1      \nbz2file                            0.98       \ncasadi                             3.5.1      \ncertifi                            2019.11.28 \ncffi                               1.12.3     \nchardet                            3.0.4      \nClick                              7.0        \ncloudpickle                        1.2.2      \nclyent                             1.2.2      \ncolorama                           0.4.1      \ncomtypes                           1.1.7      \nconda                              4.7.12     \nconda-build                        3.18.9     \nconda-package-handling             1.6.0      \nconda-verify                       3.4.2      \ncontextlib2                        0.6.0      \ncontractions                       0.0.24     \ncoverage                           4.5.4      \ncryptography                       2.7        \ncycler                             0.10.0     \nCython                             0.29.13    \ncytoolz                            0.10.0     \ndask                               2.5.2      \ndecorator                          4.4.0      \ndefusedxml                         0.6.0      \ndistributed                        2.5.2      \ndocutils                           0.15.2     \nentrypoints                        0.3        \net-xmlfile                         1.0.1      \nfastcache                          1.1.0      \nFibo                               1.0.0      \nfilelock                           3.0.12     \nFlask                              1.1.1      \nfsspec                             0.5.2      \nfuncy                              1.14       \nfuture                             0.17.1     \ngast                               0.2.2      \ngensim                             3.8.0      \ngevent                             1.4.0      \ngitdb2                             2.0.6      \nGitPython                          3.0.5      \nglob2                              0.7        \ngoogle-pasta                       0.1.7      \ngreenlet                           0.4.15     \ngrpcio                             1.23.0     \nh5py                               2.9.0      \nHeapDict                           1.0.1      \nhelper                             2.4.2      \nhtml5lib                           1.0.1      \nhypothesis                         4.50.8     \nidna                               2.8        \nimageio                            2.6.0      \nimagesize                          1.1.0      \nimportlib-metadata                 0.23       \nimutils                            0.5.3      \ninflect                            3.0.2      \ninjector                           0.18.1     \nintervaltree                       2.1.0      \nipykernel                          5.1.2      \nipymarkup                          0.5.0      \nipython                            7.8.0      \nipython-genutils                   0.2.0      \nipywidgets                         7.5.1      \nisort                              4.3.21     \nitsdangerous                       1.1.0      \njdcal                              1.4.1      \njedi                               0.15.1     \nJinja2                             2.10.3     \njmespath                           0.9.4      \njoblib                             0.13.2     \njson5                              0.8.5      \njsonschema                         3.0.2      \njupyter                            1.0.0      \njupyter-client                     5.3.3      \njupyter-console                    6.0.0      \njupyter-core                       4.5.0      \njupyterlab                         1.1.4      \njupyterlab-server                  1.0.6      \nKeras                              2.3.1      \nKeras-Applications                 1.0.8      \nKeras-Preprocessing                1.1.0      \nkeyring                            18.0.0     \nkiwisolver                         1.1.0      \nlazy-object-proxy                  1.4.2      \nlibarchive-c                       2.8        \nllvmlite                           0.29.0     \nlocket                             0.2.0      \nlxml                               4.4.1      \nMako                               1.1.0      \nMarkdown                           3.1.1      \nMarkupSafe                         1.1.1      \nmatplotlib                         3.1.2      \nmatplotlib2tikz                    0.7.6      \nmccabe                             0.6.1      \nmenuinst                           1.4.16     \nmistune                            0.8.4      \nmkl-fft                            1.0.14     \nmkl-random                         1.1.0      \nmkl-service                        2.3.0      \nmock                               3.0.5      \nmore-itertools                     7.2.0      \nmpmath                             1.1.0      \nmsgpack                            0.6.1      \nmultidict                          4.6.1      \nmultipledispatch                   0.6.0      \nmysql-connector                    2.2.9      \nmysql-connector-python             8.0.18     \nmysqlclient                        1.3.14     \nnavigator-updater                  0.2.1      \nnbconvert                          5.6.0      \nnbformat                           4.4.0      \nnetworkx                           2.3        \nnltk                               3.4.5      \nnose                               1.3.7      \nnose2                              0.9.1      \nnotebook                           6.0.1      \nnumba                              0.45.1     \nnumexpr                            2.7.0      \nnumpy                              1.16.5     \nnumpydoc                           0.9.1      \noauthlib                           3.1.0      \nolefile                            0.46       \nomg-tools                          0.1.4      \nopencv-python                      4.1.1.26   \nopenpyxl                           3.0.0      \nopt-einsum                         3.1.0      \npackaging                          19.2       \npandas                             0.25.1     \npandas-datareader                  0.8.1      \npandocfilters                      1.4.2      \nparso                              0.5.1      \npartd                              1.0.0      \npath.py                            12.0.1     \npathlib2                           2.3.5      \npatsy                              0.5.1      \npbr                                5.4.4      \npep8                               1.7.1      \npickleshare                        0.7.5      \nPillow                             6.2.0      \npip                                19.3.1     \npkginfo                            1.5.0.1    \npluggy                             0.13.0     \nply                                3.11       \nprometheus-client                  0.7.1      \nprompt-toolkit                     2.0.10     \nprotobuf                           3.11.1     \npsutil                             5.6.3      \npy                                 1.8.0      \npyahocorasick                      1.4.0      \npycodestyle                        2.5.0      \npycosat                            0.6.3      \npycparser                          2.19       \npycrypto                           2.6.1      \npycurl                             7.43.0.3   \npydotplus                          2.0.2      \npyflakes                           2.1.1      \nPygments                           2.4.2      \npygpu                              0.7.6      \npyLDAvis                           2.1.2      \npylint                             2.4.2      \nPyMySQL                            0.9.2      \npyodbc                             4.0.27     \nPyOpenGL                           3.1.3b2    \npyOpenSSL                          19.0.0     \npyparsing                          2.4.2      \nPyQt5                              5.13.1     \nPyQt5-sip                          12.7.0     \npyqtgraph                          0.10.0     \npyreadline                         2.1        \npyrealsense2                       2.30.0.1184\npyrsistent                         0.15.4     \nPySocks                            1.7.1      \npytest                             5.2.1      \npytest-arraydiff                   0.3        \npytest-astropy                     0.5.0      \npytest-doctestplus                 0.4.0      \npytest-openfiles                   0.4.0      \npytest-remotedata                  0.3.2      \npython-dateutil                    2.8.0      \npytz                               2019.3     \nPyWavelets                         1.0.3      \npywin32                            223        \npywinpty                           0.5.5      \nPyYAML                             5.1.2      \npyzmq                              18.1.0     \nQtAwesome                          0.6.0      \nqtconsole                          4.5.5      \nQtPy                               1.9.0      \nrequests                           2.22.0     \nrequests-oauthlib                  1.3.0      \nrope                               0.14.0     \nruamel-yaml                        0.15.46    \ns3transfer                         0.2.1      \nscikit-image                       0.15.0     \nscikit-learn                       0.21.3     \nscipy                              1.3.1      \nseaborn                            0.9.0      \nSend2Trash                         1.5.0      \nsetuptools                         41.4.0     \nsimplegeneric                      0.8.1      \nsingledispatch                     3.4.0.3    \nsix                                1.12.0     \nsklearn                            0.0        \nsmart-open                         1.9.0      \nsmmap2                             2.0.5      \nsnowballstemmer                    2.0.0      \nsortedcollections                  1.1.2      \nsortedcontainers                   2.1.0      \nsoupsieve                          1.9.3      \nSphinx                             2.2.0      \nsphinxcontrib-applehelp            1.0.1      \nsphinxcontrib-devhelp              1.0.1      \nsphinxcontrib-htmlhelp             1.0.2      \nsphinxcontrib-jsmath               1.0.1      \nsphinxcontrib-qthelp               1.0.2      \nsphinxcontrib-serializinghtml      1.1.3      \nsphinxcontrib-websupport           1.1.2      \nspyder                             3.3.6      \nspyder-kernels                     0.5.2      \nSQLAlchemy                         1.3.9      \nstatsmodels                        0.10.2     \nstevedore                          1.31.0     \nsympy                              1.4        \ntables                             3.5.2      \ntblib                              1.4.0      \ntensorboard                        2.0.0      \ntensorflow                         2.0.0      \ntensorflow-estimator               2.0.0      \ntermcolor                          1.1.0      \nterminado                          0.8.2      \ntestpath                           0.4.2      \ntextsearch                         0.0.17     \nTheano                             1.0.4      \ntikzplotlib                        0.8.7      \ntoolz                              0.10.0     \ntorch                              1.0.1      \ntornado                            6.0.3      \ntqdm                               4.36.1     \ntraitlets                          4.3.3      \ntweepy                             3.8.0      \ntwython                            3.7.0      \ntyping-extensions                  3.7.4.1    \nunicodecsv                         0.14.1     \nUnidecode                          1.1.1      \nurllib3                            1.24.2     \nwcwidth                            0.1.7      \nwebencodings                       0.5.1      \nWerkzeug                           0.16.0     \nwheel                              0.33.6     \nwidgetsnbextension                 3.5.1      \nwin-inet-pton                      1.1.0      \nwin-unicode-console                0.5        \nwincertstore                       0.2        \nwordcloud                          1.6.0      \nwrapt                              1.11.2     \nxlrd                               1.2.0      \nXlsxWriter                         1.2.1      \nxlwings                            0.15.10    \nxlwt                               1.3.0      \nyarl                               1.4.2      \nzict                               1.0.0      \nzipp                               0.6.0      \nNote: you may need to restart the kernel to use updated packages.\n"
     ],
     "output_type": "stream"
    }
   ],
   "source": [
    "pip list"
   ],
   "metadata": {
    "collapsed": false,
    "pycharm": {
     "name": "#%%\n",
     "is_executing": false
    }
   }
  },
  {
   "cell_type": "code",
   "execution_count": 9,
   "outputs": [
    {
     "traceback": [
      "\u001b[1;31m---------------------------------------------------------------------------\u001b[0m",
      "\u001b[1;31mNameError\u001b[0m                                 Traceback (most recent call last)",
      "\u001b[1;32m<ipython-input-9-439a75c33d87>\u001b[0m in \u001b[0;36m<module>\u001b[1;34m\u001b[0m\n\u001b[1;32m----> 1\u001b[1;33m \u001b[0mnetstat\u001b[0m \u001b[1;33m-\u001b[0m\u001b[0manb\u001b[0m\u001b[1;33m\u001b[0m\u001b[1;33m\u001b[0m\u001b[0m\n\u001b[0m",
      "\u001b[1;31mNameError\u001b[0m: name 'netstat' is not defined"
     ],
     "ename": "NameError",
     "evalue": "name 'netstat' is not defined",
     "output_type": "error"
    }
   ],
   "source": [
    "netstat -anb"
   ],
   "metadata": {
    "collapsed": false,
    "pycharm": {
     "name": "#%%\n",
     "is_executing": false
    }
   }
  },
  {
   "cell_type": "code",
   "execution_count": null,
   "outputs": [],
   "source": [
    "\n"
   ],
   "metadata": {
    "collapsed": false,
    "pycharm": {
     "name": "#%%\n"
    }
   }
  }
 ],
 "metadata": {
  "kernelspec": {
   "display_name": "Python 3",
   "language": "python",
   "name": "python3"
  },
  "language_info": {
   "codemirror_mode": {
    "name": "ipython",
    "version": 2
   },
   "file_extension": ".py",
   "mimetype": "text/x-python",
   "name": "python",
   "nbconvert_exporter": "python",
   "pygments_lexer": "ipython2",
   "version": "2.7.6"
  },
  "pycharm": {
   "stem_cell": {
    "cell_type": "raw",
    "source": [],
    "metadata": {
     "collapsed": false
    }
   }
  }
 },
 "nbformat": 4,
 "nbformat_minor": 0
}