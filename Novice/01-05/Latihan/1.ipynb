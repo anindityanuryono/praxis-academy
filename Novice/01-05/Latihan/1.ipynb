{
 "cells": [
  {
   "cell_type": "code",
   "execution_count": 6,
   "metadata": {},
   "outputs": [],
   "source": []
  },
  {
   "cell_type": "code",
   "execution_count": 9,
   "metadata": {
    "scrolled": true
   },
   "outputs": [
    {
     "name": "stdout",
     "output_type": "stream",
     "text": [
      "WRITING: pickle (elkcip)\n"
     ]
    },
    {
     "ename": "TypeError",
     "evalue": "string argument expected, got 'bytes'",
     "output_type": "error",
     "traceback": [
      "\u001b[1;31m---------------------------------------------------------------------------\u001b[0m",
      "\u001b[1;31mTypeError\u001b[0m                                 Traceback (most recent call last)",
      "\u001b[1;32m<ipython-input-9-aaf633664452>\u001b[0m in \u001b[0;36m<module>\u001b[1;34m\u001b[0m\n\u001b[0;32m     29\u001b[0m \u001b[1;32mfor\u001b[0m \u001b[0mo\u001b[0m \u001b[1;32min\u001b[0m \u001b[0mdata\u001b[0m\u001b[1;33m:\u001b[0m\u001b[1;33m\u001b[0m\u001b[1;33m\u001b[0m\u001b[0m\n\u001b[0;32m     30\u001b[0m     \u001b[0mprint\u001b[0m \u001b[1;33m(\u001b[0m\u001b[1;34m\"WRITING: %s (%s)\"\u001b[0m \u001b[1;33m%\u001b[0m \u001b[1;33m(\u001b[0m\u001b[0mo\u001b[0m\u001b[1;33m.\u001b[0m\u001b[0mname\u001b[0m\u001b[1;33m,\u001b[0m \u001b[0mo\u001b[0m\u001b[1;33m.\u001b[0m\u001b[0mname_backwards\u001b[0m\u001b[1;33m)\u001b[0m\u001b[1;33m)\u001b[0m\u001b[1;33m\u001b[0m\u001b[1;33m\u001b[0m\u001b[0m\n\u001b[1;32m---> 31\u001b[1;33m     \u001b[0mpickle\u001b[0m\u001b[1;33m.\u001b[0m\u001b[0mdump\u001b[0m\u001b[1;33m(\u001b[0m\u001b[0mo\u001b[0m\u001b[1;33m,\u001b[0m \u001b[0mout_s\u001b[0m\u001b[1;33m)\u001b[0m\u001b[1;33m\u001b[0m\u001b[1;33m\u001b[0m\u001b[0m\n\u001b[0m\u001b[0;32m     32\u001b[0m     \u001b[0mout_s\u001b[0m\u001b[1;33m.\u001b[0m\u001b[0mflush\u001b[0m\u001b[1;33m(\u001b[0m\u001b[1;33m)\u001b[0m\u001b[1;33m\u001b[0m\u001b[1;33m\u001b[0m\u001b[0m\n",
      "\u001b[1;31mTypeError\u001b[0m: string argument expected, got 'bytes'"
     ]
    }
   ],
   "source": [
    "# Python program to illustrate \n",
    "# pickle.dump() \n",
    "\n",
    "import pickle \n",
    "\n",
    "try:\n",
    "    from StringIO import StringIO\n",
    "except ImportError:\n",
    "    from io import StringIO\n",
    "  \n",
    "class SimpleObject(object): \n",
    "  \n",
    "    def __init__(self, name): \n",
    "        self.name = name \n",
    "        l = list(name) \n",
    "        l.reverse() \n",
    "        self.name_backwards = ''.join(l) \n",
    "        return\n",
    "  \n",
    "data = [] \n",
    "data.append(SimpleObject('pickle')) \n",
    "data.append(SimpleObject('cPickle')) \n",
    "data.append(SimpleObject('last')) \n",
    "  \n",
    "# Simulate a file with StringIO \n",
    "out_s = StringIO() \n",
    "  \n",
    "# Write to the stream \n",
    "for o in data: \n",
    "    print (\"WRITING: %s (%s)\" % (o.name, o.name_backwards)) \n",
    "    pickle.dump(o, out_s) \n",
    "    out_s.flush()"
   ]
  },
  {
   "cell_type": "code",
   "execution_count": 11,
   "metadata": {},
   "outputs": [
    {
     "name": "stdout",
     "output_type": "stream",
     "text": [
      "PICKLE: b'\\x80\\x03]q\\x00}q\\x01(X\\x01\\x00\\x00\\x00aq\\x02X\\x01\\x00\\x00\\x00Aq\\x03X\\x01\\x00\\x00\\x00bq\\x04K\\x02X\\x01\\x00\\x00\\x00cq\\x05G@\\x08\\x00\\x00\\x00\\x00\\x00\\x00ua.'\n"
     ]
    }
   ],
   "source": [
    "# Python program to illustrate \n",
    "#Picle.dumps() \n",
    "import pickle \n",
    "   \n",
    "data = [ { 'a':'A', 'b':2, 'c':3.0 } ] \n",
    "data_string = pickle.dumps(data) \n",
    "print ('PICKLE:', data_string) "
   ]
  },
  {
   "cell_type": "code",
   "execution_count": 13,
   "metadata": {},
   "outputs": [
    {
     "name": "stdout",
     "output_type": "stream",
     "text": [
      "WRITING: pickle (elkcip)\n"
     ]
    },
    {
     "ename": "TypeError",
     "evalue": "string argument expected, got 'bytes'",
     "output_type": "error",
     "traceback": [
      "\u001b[1;31m---------------------------------------------------------------------------\u001b[0m",
      "\u001b[1;31mTypeError\u001b[0m                                 Traceback (most recent call last)",
      "\u001b[1;32m<ipython-input-13-081348a98193>\u001b[0m in \u001b[0;36m<module>\u001b[1;34m\u001b[0m\n\u001b[0;32m     28\u001b[0m \u001b[1;32mfor\u001b[0m \u001b[0mo\u001b[0m \u001b[1;32min\u001b[0m \u001b[0mdata\u001b[0m\u001b[1;33m:\u001b[0m\u001b[1;33m\u001b[0m\u001b[1;33m\u001b[0m\u001b[0m\n\u001b[0;32m     29\u001b[0m     \u001b[0mprint\u001b[0m \u001b[1;33m(\u001b[0m\u001b[1;34m'WRITING: %s (%s)'\u001b[0m \u001b[1;33m%\u001b[0m \u001b[1;33m(\u001b[0m\u001b[0mo\u001b[0m\u001b[1;33m.\u001b[0m\u001b[0mname\u001b[0m\u001b[1;33m,\u001b[0m \u001b[0mo\u001b[0m\u001b[1;33m.\u001b[0m\u001b[0mname_backwards\u001b[0m\u001b[1;33m)\u001b[0m\u001b[1;33m)\u001b[0m\u001b[1;33m\u001b[0m\u001b[1;33m\u001b[0m\u001b[0m\n\u001b[1;32m---> 30\u001b[1;33m     \u001b[0mpickle\u001b[0m\u001b[1;33m.\u001b[0m\u001b[0mdump\u001b[0m\u001b[1;33m(\u001b[0m\u001b[0mo\u001b[0m\u001b[1;33m,\u001b[0m \u001b[0mout_s\u001b[0m\u001b[1;33m)\u001b[0m\u001b[1;33m\u001b[0m\u001b[1;33m\u001b[0m\u001b[0m\n\u001b[0m\u001b[0;32m     31\u001b[0m     \u001b[0mout_s\u001b[0m\u001b[1;33m.\u001b[0m\u001b[0mflush\u001b[0m\u001b[1;33m(\u001b[0m\u001b[1;33m)\u001b[0m\u001b[1;33m\u001b[0m\u001b[1;33m\u001b[0m\u001b[0m\n\u001b[0;32m     32\u001b[0m \u001b[1;33m\u001b[0m\u001b[0m\n",
      "\u001b[1;31mTypeError\u001b[0m: string argument expected, got 'bytes'"
     ]
    }
   ],
   "source": [
    "# Python program to illustrate \n",
    "# pickle.load() \n",
    "import pickle \n",
    "try:\n",
    "    from StringIO import StringIO\n",
    "except ImportError:\n",
    "    from io import StringIO\n",
    "  \n",
    "class SimpleObject(object): \n",
    "  \n",
    "    def __init__(self, name): \n",
    "        self.name = name \n",
    "        l = list(name) \n",
    "        l.reverse() \n",
    "        self.name_backwards = ''.join(l) \n",
    "        return\n",
    "  \n",
    "data = [] \n",
    "data.append(SimpleObject('pickle')) \n",
    "data.append(SimpleObject('cPickle')) \n",
    "data.append(SimpleObject('last')) \n",
    "  \n",
    "# Simulate a file with StringIO \n",
    "out_s = StringIO() \n",
    "  \n",
    "  \n",
    "# Write to the stream \n",
    "for o in data: \n",
    "    print ('WRITING: %s (%s)' % (o.name, o.name_backwards)) \n",
    "    pickle.dump(o, out_s) \n",
    "    out_s.flush() \n",
    "      \n",
    "      \n",
    "# Set up a read-able stream \n",
    "in_s = StringIO(out_s.getvalue()) \n",
    "  \n",
    "# Read the data \n",
    "while True: \n",
    "    try: \n",
    "        o = pickle.load(in_s) \n",
    "    except EOFError: \n",
    "        break\n",
    "    else: \n",
    "        print ('READ: %s (%s)' % (o.name, o.name_backwards)) "
   ]
  },
  {
   "cell_type": "code",
   "execution_count": 18,
   "metadata": {},
   "outputs": [
    {
     "ename": "TypeError",
     "evalue": "'str' object is not callable",
     "output_type": "error",
     "traceback": [
      "\u001b[1;31m---------------------------------------------------------------------------\u001b[0m",
      "\u001b[1;31mTypeError\u001b[0m                                 Traceback (most recent call last)",
      "\u001b[1;32m<ipython-input-18-28c8aea37845>\u001b[0m in \u001b[0;36m<module>\u001b[1;34m\u001b[0m\n\u001b[0;32m     24\u001b[0m \u001b[1;31m# Write to the stream\u001b[0m\u001b[1;33m\u001b[0m\u001b[1;33m\u001b[0m\u001b[1;33m\u001b[0m\u001b[0m\n\u001b[0;32m     25\u001b[0m \u001b[1;32mfor\u001b[0m \u001b[0mo\u001b[0m \u001b[1;32min\u001b[0m \u001b[0mdata\u001b[0m\u001b[1;33m:\u001b[0m\u001b[1;33m\u001b[0m\u001b[1;33m\u001b[0m\u001b[0m\n\u001b[1;32m---> 26\u001b[1;33m     \u001b[0mprint\u001b[0m \u001b[1;33m(\u001b[0m\u001b[1;34m'WRITING: %s (%s)'\u001b[0m \u001b[1;33m(\u001b[0m\u001b[0mo\u001b[0m\u001b[1;33m.\u001b[0m\u001b[0mname\u001b[0m\u001b[1;33m,\u001b[0m \u001b[0mo\u001b[0m\u001b[1;33m.\u001b[0m\u001b[0mname_backwards\u001b[0m\u001b[1;33m)\u001b[0m\u001b[1;33m)\u001b[0m\u001b[1;33m\u001b[0m\u001b[1;33m\u001b[0m\u001b[0m\n\u001b[0m\u001b[0;32m     27\u001b[0m     \u001b[0mpickle\u001b[0m\u001b[1;33m.\u001b[0m\u001b[0mdump\u001b[0m\u001b[1;33m(\u001b[0m\u001b[0mo\u001b[0m\u001b[1;33m,\u001b[0m \u001b[0mout_s\u001b[0m\u001b[1;33m)\u001b[0m\u001b[1;33m\u001b[0m\u001b[1;33m\u001b[0m\u001b[0m\n\u001b[0;32m     28\u001b[0m     \u001b[0mout_s\u001b[0m\u001b[1;33m.\u001b[0m\u001b[0mflush\u001b[0m\u001b[1;33m(\u001b[0m\u001b[1;33m)\u001b[0m\u001b[1;33m\u001b[0m\u001b[1;33m\u001b[0m\u001b[0m\n",
      "\u001b[1;31mTypeError\u001b[0m: 'str' object is not callable"
     ]
    }
   ],
   "source": [
    "# Python program to illustrate \n",
    "# pickle.load() \n",
    "import pickle \n",
    "from io import StringIO \n",
    "  \n",
    "class SimpleObject(object): \n",
    "  \n",
    "    def __init__(self, name): \n",
    "        self.name = name \n",
    "        l = list(name) \n",
    "        l.reverse() \n",
    "        self.name_backwards = ''.join(l) \n",
    "        return\n",
    "  \n",
    "data = [] \n",
    "data.append(SimpleObject('pickle')) \n",
    "data.append(SimpleObject('cPickle')) \n",
    "data.append(SimpleObject('last')) \n",
    "  \n",
    "# Simulate a file with StringIO \n",
    "out_s = StringIO() \n",
    "  \n",
    "  \n",
    "# Write to the stream \n",
    "for o in data: \n",
    "    print ('WRITING: %s (%s)' (o.name, o.name_backwards)) \n",
    "    pickle.dump(o, out_s) \n",
    "    out_s.flush() \n",
    "      \n",
    "      \n",
    "# Set up a read-able stream \n",
    "in_s = StringIO(out_s.getvalue()) \n",
    "  \n",
    "# Read the data \n",
    "while True: \n",
    "    try: \n",
    "        o = pickle.load(in_s) \n",
    "    except EOFError: \n",
    "        break\n",
    "    else: \n",
    "        print ('READ: %s (%s)' (o.name, o.name_backwards)) "
   ]
  },
  {
   "cell_type": "code",
   "execution_count": 21,
   "metadata": {},
   "outputs": [
    {
     "name": "stdout",
     "output_type": "stream",
     "text": [
      "BEFORE:\n",
      "[{'a': 'A', 'b': 2, 'c': 3.0}]\n",
      "AFTER:\n",
      "[{'a': 'A', 'b': 2, 'c': 3.0}]\n",
      "SAME?: False\n",
      "EQUAL?: True\n"
     ]
    }
   ],
   "source": [
    "\n",
    "# Python program to illustrate \n",
    "# pickle.loads() \n",
    "import pickle \n",
    "import pprint \n",
    "  \n",
    "data1 = [ { 'a':'A', 'b':2, 'c':3.0 } ] \n",
    "print('BEFORE:') \n",
    "pprint.pprint(data1) \n",
    "  \n",
    "data1_string = pickle.dumps(data1) \n",
    "  \n",
    "data2 = pickle.loads(data1_string) \n",
    "print('AFTER:') \n",
    "pprint.pprint(data2) \n",
    "  \n",
    "print('SAME?:', (data1 is data2)) \n",
    "print('EQUAL?:', (data1 == data2))"
   ]
  },
  {
   "cell_type": "code",
   "execution_count": 24,
   "metadata": {},
   "outputs": [
    {
     "ename": "SyntaxError",
     "evalue": "invalid syntax (<ipython-input-24-b3ff19ae6209>, line 10)",
     "output_type": "error",
     "traceback": [
      "\u001b[1;36m  File \u001b[1;32m\"<ipython-input-24-b3ff19ae6209>\"\u001b[1;36m, line \u001b[1;32m10\u001b[0m\n\u001b[1;33m    self.lineno + = 1\u001b[0m\n\u001b[1;37m                  ^\u001b[0m\n\u001b[1;31mSyntaxError\u001b[0m\u001b[1;31m:\u001b[0m invalid syntax\n"
     ]
    }
   ],
   "source": [
    "class TextReader: \n",
    "    \"\"\"Print and number lines in a text file.\"\"\"\n",
    "  \n",
    "    def __init__(self, filename): \n",
    "        self.filename = filename \n",
    "        self.file = open(filename) \n",
    "        self.lineno = 0\n",
    "  \n",
    "    def readline(self): \n",
    "        self.lineno + = 1\n",
    "        line = self.file.readline() \n",
    "        if not line: \n",
    "            return None\n",
    "        if line.endswith('\\n'): \n",
    "            line = line[:-1] \n",
    "        return \"%i: %s\" % (self.lineno, line) \n",
    "  \n",
    "    def __getstate__(self): \n",
    "        # Copy the object's state from self.__dict__ which contains \n",
    "        # all our instance attributes. Always use the dict.copy() \n",
    "        # method to avoid modifying the original state. \n",
    "        state = self.__dict__.copy() \n",
    "        # Remove the unpicklable entries. \n",
    "        del state['file'] \n",
    "        return state \n",
    "  \n",
    "    def __setstate__(self, state): \n",
    "        # Restore instance attributes (i.e., filename and lineno). \n",
    "        self.__dict__.update(state) \n",
    "        # Restore the previously opened file's state. To do so, we need to \n",
    "        # reopen it and read from it until the line count is restored. \n",
    "        file = open(self.filename) \n",
    "        for _ in range(self.lineno): \n",
    "            file.readline() \n",
    "        # Finally, save the file. \n",
    "        self.file = file\n",
    "   \n",
    "reader = TextReader(\"hello.txt\") \n",
    "print(reader.readline()) \n",
    "print(reader.readline()) \n",
    "new_reader = pickle.loads(pickle.dumps(reader)) \n",
    "print(new_reader.readline()) "
   ]
  },
  {
   "cell_type": "code",
   "execution_count": null,
   "metadata": {},
   "outputs": [],
   "source": []
  }
 ],
 "metadata": {
  "kernelspec": {
   "display_name": "Python 3",
   "language": "python",
   "name": "python3"
  },
  "language_info": {
   "codemirror_mode": {
    "name": "ipython",
    "version": 3
   },
   "file_extension": ".py",
   "mimetype": "text/x-python",
   "name": "python",
   "nbconvert_exporter": "python",
   "pygments_lexer": "ipython3",
   "version": "3.7.4"
  }
 },
 "nbformat": 4,
 "nbformat_minor": 2
}
