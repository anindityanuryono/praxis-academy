{
 "cells": [
  {
   "cell_type": "code",
   "execution_count": 6,
   "metadata": {},
   "outputs": [
    {
     "name": "stdout",
     "output_type": "stream",
     "text": [
      "Hi gaes\n"
     ]
    }
   ],
   "source": [
    "def fungsi():\n",
    "    print(\"Hi gaes\")\n",
    "fungsi()"
   ]
  },
  {
   "cell_type": "code",
   "execution_count": 59,
   "metadata": {},
   "outputs": [
    {
     "name": "stdout",
     "output_type": "stream",
     "text": [
      "Indonesia\n"
     ]
    }
   ],
   "source": [
    "fungsi.tambah = \"Indonesia\"\n",
    "print(fungsi.tambah)"
   ]
  },
  {
   "cell_type": "code",
   "execution_count": 18,
   "metadata": {},
   "outputs": [
    {
     "name": "stdout",
     "output_type": "stream",
     "text": [
      "25\n"
     ]
    }
   ],
   "source": [
    "import math\n",
    "\n",
    "def fungsi(x):\n",
    "    return x * x\n",
    "a = fungsi(5)    \n",
    "print(a)"
   ]
  },
  {
   "cell_type": "markdown",
   "metadata": {},
   "source": [
    "# Example 1"
   ]
  },
  {
   "cell_type": "code",
   "execution_count": 8,
   "metadata": {},
   "outputs": [
    {
     "name": "stdout",
     "output_type": "stream",
     "text": [
      "[2, 4, 6]\n"
     ]
    }
   ],
   "source": [
    "arr1 = [1, 2, 3]\n",
    "arr2 = []\n",
    "for i in arr1:\n",
    "    arr2.append(i*2)\n",
    "print(arr2)    "
   ]
  },
  {
   "cell_type": "code",
   "execution_count": 66,
   "metadata": {},
   "outputs": [
    {
     "name": "stdout",
     "output_type": "stream",
     "text": [
      "<map object at 0x000002D567E37808>\n",
      "(2, 4, 6)\n"
     ]
    }
   ],
   "source": [
    "def func(item):\n",
    "    return item * 2\n",
    "\n",
    "arr2 = map(func,[1, 2, 3])\n",
    "print(arr2)\n",
    "print(tuple(arr2))"
   ]
  },
  {
   "cell_type": "code",
   "execution_count": 7,
   "metadata": {},
   "outputs": [
    {
     "name": "stdout",
     "output_type": "stream",
     "text": [
      "(2, 4, 6)\n"
     ]
    }
   ],
   "source": [
    "arr1 = [1, 2, 3]\n",
    "arr2 = map(lambda x: x*2, arr1)\n",
    "print(tuple(arr2))"
   ]
  },
  {
   "cell_type": "markdown",
   "metadata": {},
   "source": [
    "# Example 2"
   ]
  },
  {
   "cell_type": "code",
   "execution_count": 13,
   "metadata": {},
   "outputs": [
    {
     "name": "stdout",
     "output_type": "stream",
     "text": [
      "[44, 22, 17, 24, 34]\n"
     ]
    }
   ],
   "source": [
    "tahunLahir = [1975, 1997, 2002, 1995, 1985]\n",
    "umur = []\n",
    "\n",
    "for i in tahunLahir:\n",
    "    umur_sekarang = 2019 - i\n",
    "    umur.append(umur_sekarang)\n",
    "print(umur)"
   ]
  },
  {
   "cell_type": "code",
   "execution_count": 14,
   "metadata": {},
   "outputs": [
    {
     "name": "stdout",
     "output_type": "stream",
     "text": [
      "(44, 22, 17, 24, 34)\n"
     ]
    }
   ],
   "source": [
    "tahunLahir = [1975, 1997, 2002, 1995, 1985]\n",
    "\n",
    "umur = map(lambda x: 2019 - x, tahunLahir)\n",
    "print(tuple(umur))"
   ]
  },
  {
   "cell_type": "markdown",
   "metadata": {},
   "source": [
    "# Example 1"
   ]
  },
  {
   "cell_type": "code",
   "execution_count": 15,
   "metadata": {},
   "outputs": [
    {
     "name": "stdout",
     "output_type": "stream",
     "text": [
      "{'brand': 'Ford', 'model': 'Mustang', 'year': 1964}\n"
     ]
    }
   ],
   "source": [
    "thisdict = {\n",
    "  \"brand\": \"Ford\",\n",
    "  \"model\": \"Mustang\",\n",
    "  \"year\": 1964\n",
    "}\n",
    "print(thisdict)"
   ]
  },
  {
   "cell_type": "code",
   "execution_count": 50,
   "metadata": {},
   "outputs": [
    {
     "data": {
      "text/plain": [
       "[{'nama': 'Bayu', 'umur': 18}]"
      ]
     },
     "execution_count": 50,
     "metadata": {},
     "output_type": "execute_result"
    }
   ],
   "source": [
    "orang = {\n",
    "    \"child1\" : {\n",
    "        \"nama\" : \"Aan\",\n",
    "        \"umur\" : 28\n",
    "    },\n",
    "    \"child2\" : {\n",
    "        \"nama\" : \"Tika\",\n",
    "        \"umur\" : 28\n",
    "    },\n",
    "    \"child3\" : {\n",
    "        \"nama\" : \"Bayu\",\n",
    "        \"umur\" : 18\n",
    "    }\n",
    "}\n",
    "\n",
    "total_umur = []\n",
    "\n",
    "[v for v in orang.values() if 18 in v.values()]"
   ]
  },
  {
   "cell_type": "code",
   "execution_count": 47,
   "metadata": {},
   "outputs": [],
   "source": [
    "orang = {\n",
    "    \"child1\" : {\n",
    "        \"nama\" : \"Aan\",\n",
    "        \"umur\" : 28\n",
    "    },\n",
    "    \"child2\" : {\n",
    "        \"nama\" : \"Tika\",\n",
    "        \"umur\" : 28\n",
    "    },\n",
    "    \"child3\" : {\n",
    "        \"nama\" : \"Bayu\",\n",
    "        \"umur\" : 17\n",
    "    }\n",
    "}"
   ]
  },
  {
   "cell_type": "code",
   "execution_count": 48,
   "metadata": {},
   "outputs": [
    {
     "data": {
      "text/plain": [
       "[]"
      ]
     },
     "execution_count": 48,
     "metadata": {},
     "output_type": "execute_result"
    }
   ],
   "source": [
    "[v for v in orang.values() if 18 in v.values()]"
   ]
  },
  {
   "cell_type": "code",
   "execution_count": 49,
   "metadata": {},
   "outputs": [
    {
     "data": {
      "text/plain": [
       "[{'nama': 'Aan', 'umur': 28}, {'nama': 'Tika', 'umur': 28}]"
      ]
     },
     "execution_count": 49,
     "metadata": {},
     "output_type": "execute_result"
    }
   ],
   "source": [
    "list(filter(lambda x: x if x['umur'] >= 18  else None, orang.values()))"
   ]
  },
  {
   "cell_type": "markdown",
   "metadata": {},
   "source": [
    "# Example"
   ]
  },
  {
   "cell_type": "code",
   "execution_count": 19,
   "metadata": {},
   "outputs": [
    {
     "name": "stdout",
     "output_type": "stream",
     "text": [
      "The sum of the list elements is : 25\n"
     ]
    }
   ],
   "source": [
    "import functools\n",
    "arr = [5, 7, 1, 8, 4]\n",
    "print (\"The sum of the list elements is : \",end=\"\") \n",
    "print (functools.reduce(lambda a,b : a+b,arr)) "
   ]
  },
  {
   "cell_type": "code",
   "execution_count": 20,
   "metadata": {
    "scrolled": true
   },
   "outputs": [
    {
     "name": "stdout",
     "output_type": "stream",
     "text": [
      "The maximum element of the list is : 8\n"
     ]
    }
   ],
   "source": [
    "print (\"The maximum element of the list is : \",end=\"\") \n",
    "print (functools.reduce(lambda a,b : a if a > b else b,arr)) "
   ]
  },
  {
   "cell_type": "code",
   "execution_count": 16,
   "metadata": {},
   "outputs": [
    {
     "name": "stdout",
     "output_type": "stream",
     "text": [
      "[10, 6, 3, 4, 1]\n"
     ]
    }
   ],
   "source": [
    "strArray = ['JavaScript', 'Python', 'PHP', 'Java', 'C']\n",
    "\n",
    "def mapForEach(arr):\n",
    "    newArray = []\n",
    "    for i in range (len(strArray)):\n",
    "        newArray.append(len(arr[i]))\n",
    "    return newArray\n",
    "        \n",
    "    \n",
    "lenArray = mapForEach(strArray)\n",
    "\n",
    "print(lenArray)"
   ]
  },
  {
   "cell_type": "code",
   "execution_count": null,
   "metadata": {},
   "outputs": [],
   "source": []
  },
  {
   "cell_type": "code",
   "execution_count": null,
   "metadata": {},
   "outputs": [],
   "source": []
  }
 ],
 "metadata": {
  "kernelspec": {
   "display_name": "Python 3",
   "language": "python",
   "name": "python3"
  },
  "language_info": {
   "codemirror_mode": {
    "name": "ipython",
    "version": 3
   },
   "file_extension": ".py",
   "mimetype": "text/x-python",
   "name": "python",
   "nbconvert_exporter": "python",
   "pygments_lexer": "ipython3",
   "version": "3.7.4"
  }
 },
 "nbformat": 4,
 "nbformat_minor": 2
}
