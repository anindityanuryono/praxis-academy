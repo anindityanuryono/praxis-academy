{
 "cells": [
  {
   "cell_type": "code",
   "execution_count": 1,
   "metadata": {},
   "outputs": [
    {
     "name": "stdout",
     "output_type": "stream",
     "text": [
      "Fido says Woof!\n",
      "Isis says Meow!\n"
     ]
    }
   ],
   "source": [
    "class Animal:\n",
    "    def __init__(self, name):    # Constructor of the class\n",
    "        self.name = name\n",
    "\n",
    "    def speak(self):              # Abstract method, defined by convention only\n",
    "        raise NotImplementedError(\"Subclass must implement abstract method\")\n",
    "\n",
    "\n",
    "class Dog(Animal):\n",
    "    def speak(self):\n",
    "        return self.name+' says Woof!'\n",
    "    \n",
    "class Cat(Animal):\n",
    "    def speak(self):\n",
    "        return self.name+' says Meow!'\n",
    "    \n",
    "fido = Dog('Fido')\n",
    "isis = Cat('Isis')\n",
    "\n",
    "print(fido.speak())\n",
    "print(isis.speak())"
   ]
  },
  {
   "cell_type": "code",
   "execution_count": 2,
   "metadata": {},
   "outputs": [],
   "source": [
    "class Animal:\n",
    "    def __init__(self,name,legs):\n",
    "        self.name = name\n",
    "        self.legs = legs\n",
    "\n",
    "class Bear(Animal):\n",
    "    def __init__(self,name,legs=4,hibernate='yes'):\n",
    "        self.name = name\n",
    "        self.legs = legs\n",
    "        self.hibernate = hibernate"
   ]
  },
  {
   "cell_type": "code",
   "execution_count": 3,
   "metadata": {},
   "outputs": [
    {
     "name": "stdout",
     "output_type": "stream",
     "text": [
      "Yogi\n",
      "4\n",
      "yes\n"
     ]
    }
   ],
   "source": [
    "class Animal:\n",
    "    def __init__(self,name,legs):\n",
    "        self.name = name\n",
    "        self.legs = legs\n",
    "\n",
    "class Bear(Animal):\n",
    "    def __init__(self,name,legs=4,hibernate='yes'):\n",
    "        Animal.__init__(self,name,legs)\n",
    "        self.hibernate = hibernate\n",
    "        \n",
    "yogi = Bear('Yogi')\n",
    "print(yogi.name)\n",
    "print(yogi.legs)\n",
    "print(yogi.hibernate)"
   ]
  },
  {
   "cell_type": "code",
   "execution_count": 4,
   "metadata": {},
   "outputs": [],
   "source": [
    "class Car:\n",
    "    def __init__(self,wheels=4):\n",
    "        self.wheels = wheels\n",
    "        # We'll say that all cars, no matter their engine, have four wheels by default.\n",
    "\n",
    "class Gasoline(Car):\n",
    "    def __init__(self,engine='Gasoline',tank_cap=20):\n",
    "        Car.__init__(self)\n",
    "        self.engine = engine\n",
    "        self.tank_cap = tank_cap # represents fuel tank capacity in gallons\n",
    "        self.tank = 0\n",
    "        \n",
    "    def refuel(self):\n",
    "        self.tank = self.tank_cap\n",
    "        \n",
    "    \n",
    "class Electric(Car):\n",
    "    def __init__(self,engine='Electric',kWh_cap=60):\n",
    "        Car.__init__(self)\n",
    "        self.engine = engine\n",
    "        self.kWh_cap = kWh_cap # represents battery capacity in kilowatt-hours\n",
    "        self.kWh = 0\n",
    "    \n",
    "    def recharge(self):\n",
    "        self.kWh = self.kWh_cap"
   ]
  },
  {
   "cell_type": "code",
   "execution_count": 5,
   "metadata": {},
   "outputs": [
    {
     "name": "stdout",
     "output_type": "stream",
     "text": [
      "0\n",
      "0\n"
     ]
    }
   ],
   "source": [
    "class Hybrid(Gasoline, Electric):\n",
    "    def __init__(self,engine='Hybrid',tank_cap=11,kWh_cap=5):\n",
    "        Gasoline.__init__(self,engine,tank_cap)\n",
    "        Electric.__init__(self,engine,kWh_cap)\n",
    "        \n",
    "        \n",
    "prius = Hybrid()\n",
    "print(prius.tank)\n",
    "print(prius.kWh)"
   ]
  },
  {
   "cell_type": "code",
   "execution_count": 6,
   "metadata": {},
   "outputs": [
    {
     "name": "stdout",
     "output_type": "stream",
     "text": [
      "5\n"
     ]
    }
   ],
   "source": [
    "prius.recharge()\n",
    "print(prius.kWh)"
   ]
  },
  {
   "cell_type": "code",
   "execution_count": 7,
   "metadata": {},
   "outputs": [],
   "source": [
    "class A:\n",
    "    num = 4\n",
    "    \n",
    "class B(A):\n",
    "    pass\n",
    "\n",
    "class C(A):\n",
    "    num = 5\n",
    "    \n",
    "class D(B,C):\n",
    "    pass"
   ]
  },
  {
   "cell_type": "code",
   "execution_count": 8,
   "metadata": {},
   "outputs": [
    {
     "data": {
      "text/plain": [
       "5"
      ]
     },
     "execution_count": 8,
     "metadata": {},
     "output_type": "execute_result"
    }
   ],
   "source": [
    "D.num"
   ]
  },
  {
   "cell_type": "code",
   "execution_count": 9,
   "metadata": {},
   "outputs": [],
   "source": [
    "class MyBaseClass:\n",
    "    def __init__(self,x,y):\n",
    "        self.x = x\n",
    "        self.y = y\n",
    "    \n",
    "class MyDerivedClass(MyBaseClass):\n",
    "    def __init__(self,x,y,z):\n",
    "        super().__init__(x,y)\n",
    "        self.z = z"
   ]
  },
  {
   "cell_type": "code",
   "execution_count": 10,
   "metadata": {},
   "outputs": [],
   "source": [
    "class A:\n",
    "    def truth(self):\n",
    "        return 'All numbers are even'\n",
    "    \n",
    "class B(A):\n",
    "    pass\n",
    "\n",
    "class C(A):\n",
    "    def truth(self):\n",
    "        return 'Some numbers are even'"
   ]
  },
  {
   "cell_type": "code",
   "execution_count": 11,
   "metadata": {},
   "outputs": [
    {
     "data": {
      "text/plain": [
       "'All numbers are even'"
      ]
     },
     "execution_count": 11,
     "metadata": {},
     "output_type": "execute_result"
    }
   ],
   "source": [
    "class D(B,C):\n",
    "    def truth(self,num):\n",
    "        if num%2 == 0:\n",
    "            return A.truth(self)\n",
    "        else:\n",
    "            return super().truth()\n",
    "            \n",
    "d = D()\n",
    "d.truth(6)"
   ]
  },
  {
   "cell_type": "code",
   "execution_count": 12,
   "metadata": {},
   "outputs": [
    {
     "data": {
      "text/plain": [
       "'Some numbers are even'"
      ]
     },
     "execution_count": 12,
     "metadata": {},
     "output_type": "execute_result"
    }
   ],
   "source": [
    "d.truth(5)"
   ]
  },
  {
   "cell_type": "code",
   "execution_count": null,
   "metadata": {},
   "outputs": [],
   "source": []
  }
 ],
 "metadata": {
  "kernelspec": {
   "display_name": "Python 3",
   "language": "python",
   "name": "python3"
  },
  "language_info": {
   "codemirror_mode": {
    "name": "ipython",
    "version": 3
   },
   "file_extension": ".py",
   "mimetype": "text/x-python",
   "name": "python",
   "nbconvert_exporter": "python",
   "pygments_lexer": "ipython3",
   "version": "3.7.4"
  }
 },
 "nbformat": 4,
 "nbformat_minor": 2
}
