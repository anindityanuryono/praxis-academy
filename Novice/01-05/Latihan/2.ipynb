{
 "cells": [
  {
   "cell_type": "markdown",
   "metadata": {},
   "source": [
    "# Pickling"
   ]
  },
  {
   "cell_type": "code",
   "execution_count": 1,
   "metadata": {},
   "outputs": [
    {
     "name": "stdout",
     "output_type": "stream",
     "text": [
      "My sheep mary is white and has 4 paws\n",
      "Would you like to see her pickled? Here she is!\n",
      "b'\\x80\\x03c__main__\\nSheep\\nq\\x00)\\x81q\\x01}q\\x02(X\\x0e\\x00\\x00\\x00number_of_pawsq\\x03K\\x04X\\x05\\x00\\x00\\x00colorq\\x04X\\x05\\x00\\x00\\x00whiteq\\x05ub.'\n"
     ]
    }
   ],
   "source": [
    "import pickle\n",
    "\n",
    "class Animal:\n",
    "    def __init__(self, number_of_paws, color):\n",
    "        self.number_of_paws = number_of_paws\n",
    "        self.color = color\n",
    "        \n",
    "class Sheep(Animal):\n",
    "    def __init__(self, color):\n",
    "        Animal.__init__(self, 4, color)\n",
    "\n",
    "mary = Sheep(\"white\")\n",
    "\n",
    "print (str.format(\"My sheep mary is {0} and has {1} paws\", mary.color, mary.number_of_paws))\n",
    "my_pickled_mary = pickle.dumps(mary)\n",
    "\n",
    "print (\"Would you like to see her pickled? Here she is!\")\n",
    "print (my_pickled_mary)"
   ]
  },
  {
   "cell_type": "code",
   "execution_count": 2,
   "metadata": {},
   "outputs": [
    {
     "name": "stdout",
     "output_type": "stream",
     "text": [
      "My sheep mary is white and has 4 paws\n"
     ]
    }
   ],
   "source": [
    "import pickle\n",
    "\n",
    "class Animal:\n",
    "    def __init__(self, number_of_paws, color):\n",
    "        self.number_of_paws = number_of_paws\n",
    "        self.color = color\n",
    "        \n",
    "class Sheep(Animal):\n",
    "    def __init__(self, color):\n",
    "        Animal.__init__(self, 4, color)\n",
    "\n",
    "mary = Sheep(\"white\")\n",
    "\n",
    "print (str.format(\"My sheep mary is {0} and has {1} paws\", mary.color, mary.number_of_paws))\n",
    "my_pickled_mary = pickle.dumps(mary)\n",
    "\n",
    "binary_file = open('my_pickled_mary.bin',mode='wb')\n",
    "my_pickled_mary = pickle.dump(mary, binary_file)\n",
    "binary_file.close()"
   ]
  },
  {
   "cell_type": "markdown",
   "metadata": {},
   "source": [
    "# Unpickling"
   ]
  },
  {
   "cell_type": "code",
   "execution_count": 21,
   "metadata": {},
   "outputs": [
    {
     "name": "stdout",
     "output_type": "stream",
     "text": [
      "Dolly is black \n",
      "Mary is white \n"
     ]
    }
   ],
   "source": [
    "import pickle\n",
    "\n",
    "class Animal:\n",
    "    def __init__(self, number_of_paws, color):\n",
    "        self.number_of_paws = number_of_paws\n",
    "        self.color = color\n",
    "\n",
    "class Sheep(Animal):\n",
    "    def __init__(self, color):\n",
    "        Animal.__init__(self, 4, color)\n",
    "\n",
    "# Step 1: Let's create the sheep Mary\n",
    "mary = Sheep(\"white\")\n",
    "\n",
    "# Step 2: Let's pickle Mary\n",
    "my_pickled_mary = pickle.dumps(mary)\n",
    "\n",
    "# Step 3: Now, let's unpickle our sheep Mary creating another instance, another sheep... Dolly!\n",
    "dolly = pickle.loads(my_pickled_mary)\n",
    "\n",
    "# Dolly and Mary are two different objects, in fact if we specify another color for dolly\n",
    "# there are no conseguencies for Mary\n",
    "dolly.color = \"black\"\n",
    "\n",
    "print (str.format(\"Dolly is {0} \", dolly.color))\n",
    "print (str.format(\"Mary is {0} \", mary.color))"
   ]
  },
  {
   "cell_type": "code",
   "execution_count": 22,
   "metadata": {},
   "outputs": [
    {
     "ename": "UnpicklingError",
     "evalue": "could not find MARK",
     "output_type": "error",
     "traceback": [
      "\u001b[1;31m---------------------------------------------------------------------------\u001b[0m",
      "\u001b[1;31mUnpicklingError\u001b[0m                           Traceback (most recent call last)",
      "\u001b[1;32m<ipython-input-22-281efa7c9891>\u001b[0m in \u001b[0;36m<module>\u001b[1;34m\u001b[0m\n\u001b[0;32m      4\u001b[0m \u001b[1;33m\u001b[0m\u001b[0m\n\u001b[0;32m      5\u001b[0m \u001b[1;31m# this next statement will raise a _pickle.UnpicklingError\u001b[0m\u001b[1;33m\u001b[0m\u001b[1;33m\u001b[0m\u001b[1;33m\u001b[0m\u001b[0m\n\u001b[1;32m----> 6\u001b[1;33m \u001b[0mmy_new_object\u001b[0m \u001b[1;33m=\u001b[0m \u001b[0mpickle\u001b[0m\u001b[1;33m.\u001b[0m\u001b[0mloads\u001b[0m\u001b[1;33m(\u001b[0m\u001b[0mmy_custom_pickle\u001b[0m\u001b[1;33m)\u001b[0m\u001b[1;33m\u001b[0m\u001b[1;33m\u001b[0m\u001b[0m\n\u001b[0m",
      "\u001b[1;31mUnpicklingError\u001b[0m: could not find MARK"
     ]
    }
   ],
   "source": [
    "import pickle\n",
    "\n",
    "my_custom_pickle = bytes(\"this is unpicklable\", encoding=\"UTF-8\")\n",
    "\n",
    "# this next statement will raise a _pickle.UnpicklingError\n",
    "my_new_object = pickle.loads(my_custom_pickle)"
   ]
  },
  {
   "cell_type": "code",
   "execution_count": 23,
   "metadata": {},
   "outputs": [
    {
     "ename": "IndentationError",
     "evalue": "unexpected indent (<ipython-input-23-48f1a51c2194>, line 6)",
     "output_type": "error",
     "traceback": [
      "\u001b[1;36m  File \u001b[1;32m\"<ipython-input-23-48f1a51c2194>\"\u001b[1;36m, line \u001b[1;32m6\u001b[0m\n\u001b[1;33m    def __init__(self,name):\u001b[0m\n\u001b[1;37m    ^\u001b[0m\n\u001b[1;31mIndentationError\u001b[0m\u001b[1;31m:\u001b[0m unexpected indent\n"
     ]
    }
   ],
   "source": [
    "import pickle\n",
    "\n",
    "class my_zen_class:\n",
    "   number_of_meditations = 0\n",
    "\n",
    "    def __init__(self,name):\n",
    "        self.number_of_meditations = 0\n",
    "        self.name = name\n",
    "\n",
    "    def meditate(self):\n",
    "        self.number_of_meditations = self.number_of_meditations + 1\n",
    "\n",
    "    def __getstate__(self):\n",
    "        # this method is called when you are \n",
    "        # going to pickle the class, to know what to pickle\n",
    "\n",
    "        state = self.__dict__.copy()\n",
    "\n",
    "        # You will never get the Buddha state if you count \n",
    "        # meditations, so \n",
    "        # don't pickle this counter, the next time you will just \n",
    "        # start meditating from scratch :)\n",
    "        del state['number_of_meditations']\n",
    "\n",
    "        return state\n",
    "\n",
    "    def __setstate__(self, state):\n",
    "        # this method is called when you are going to \n",
    "        # unpickle the class,\n",
    "        # if you need some initialization after the \n",
    "        # unpickling you can do it here.\n",
    "\n",
    "        self.__dict__.update(state)\n",
    "\n",
    "\n",
    "# I start meditating\n",
    "my_zen_object = my_zen_class(\"Dave\")\n",
    "for i in range(100):\n",
    "    my_zen_object.meditate()\n",
    "\n",
    "# Now I pickle my meditation experience\n",
    "print(str.format(\"I'm {0}, and I've meditated {1} times'\", my_zen_object.name, my_zen_object.number_of_meditations))\n",
    "my_pickled_zen_object = pickle.dumps(my_zen_object)\n",
    "my_zen_object = None\n",
    "\n",
    "# Now I get my meditation experience back\n",
    "my_new_zen_object = pickle.loads(my_pickled_zen_object)\n",
    "\n",
    "# As expected, the number_of_meditations property \n",
    "# has not been restored because it hasn't been pickled\n",
    "print(str.format(\"I'm {0}, and I don't have a beginner mind yet because I've meditated only {1} times'\", my_new_zen_object.name, my_new_zen_object.number_of_meditations))\n"
   ]
  },
  {
   "cell_type": "code",
   "execution_count": null,
   "metadata": {},
   "outputs": [],
   "source": []
  }
 ],
 "metadata": {
  "kernelspec": {
   "display_name": "Python 3",
   "language": "python",
   "name": "python3"
  },
  "language_info": {
   "codemirror_mode": {
    "name": "ipython",
    "version": 3
   },
   "file_extension": ".py",
   "mimetype": "text/x-python",
   "name": "python",
   "nbconvert_exporter": "python",
   "pygments_lexer": "ipython3",
   "version": "3.7.4"
  }
 },
 "nbformat": 4,
 "nbformat_minor": 2
}
