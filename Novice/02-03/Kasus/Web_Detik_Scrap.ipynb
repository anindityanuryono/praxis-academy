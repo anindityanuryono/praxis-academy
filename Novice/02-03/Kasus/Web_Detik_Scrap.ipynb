{
 "cells": [
  {
   "cell_type": "code",
   "execution_count": 1,
   "metadata": {
    "collapsed": true,
    "pycharm": {
     "is_executing": false
    }
   },
   "outputs": [
    {
     "name": "stdout",
     "text": [
      "Read 152917 from https://www.detik.com\nRead 152917 from https://www.detik.com\n",
      "Read 152917 from https://www.detik.com\nRead 152917 from https://www.detik.com\n",
      "Read 152917 from https://www.detik.com\nRead 152917 from https://www.detik.com\n",
      "Read 152917 from https://www.detik.com\nRead 152917 from https://www.detik.com\nRead 152917 from https://www.detik.com\n",
      "Read 152917 from https://www.detik.com\nRead 152917 from https://www.detik.com\n",
      "Read 152917 from https://www.detik.com\nRead 152917 from https://www.detik.com\n",
      "Read 152917 from https://www.detik.com\nRead 152917 from https://www.detik.com\n",
      "Read 152917 from https://www.detik.com\n",
      "Read 152917 from https://www.detik.com\n",
      "Read 152917 from https://www.detik.com\nRead 152917 from https://www.detik.com\n",
      "Read 152917 from https://www.detik.com\n",
      "Read 152917 from https://www.detik.com\n",
      "Read 152917 from https://www.detik.com\n",
      "Read 152917 from https://www.detik.com\n",
      "Read 152917 from https://www.detik.com\nRead 152917 from https://www.detik.com\n",
      "Read 152917 from https://www.detik.com\nRead 152917 from https://www.detik.com\n",
      "Read 152917 from https://www.detik.com\nRead 152917 from https://www.detik.com\n",
      "Read 152917 from https://www.detik.com\nRead 152917 from https://www.detik.com\n",
      "Read 152917 from https://www.detik.com\n",
      "Read 152917 from https://www.detik.com\n",
      "Read 152917 from https://www.detik.com\nRead 152917 from https://www.detik.com\n",
      "Read 152917 from https://www.detik.com\n",
      "Read 152917 from https://www.detik.com\n",
      "Read 152917 from https://www.detik.com\n",
      "Read 152917 from https://www.detik.com\n",
      "Read 152917 from https://www.detik.com\n",
      "Read 152917 from https://www.detik.com\n",
      "Read 152917 from https://www.detik.com\nRead 152917 from https://www.detik.com\n",
      "Read 152917 from https://www.detik.com\n",
      "Read 152917 from https://www.detik.com\nRead 152917 from https://www.detik.com\n",
      "Read 152917 from https://www.detik.com\nRead 152917 from https://www.detik.com\n",
      "Read 152917 from https://www.detik.com\n",
      "Read 152917 from https://www.detik.com\nRead 152917 from https://www.detik.com\n",
      "Read 152917 from https://www.detik.com\nRead 152917 from https://www.detik.com\n",
      "Read 152917 from https://www.detik.com\nRead 152917 from https://www.detik.com\n",
      "Read 152917 from https://www.detik.com\nRead 152917 from https://www.detik.com\nRead 152917 from https://www.detik.com\n",
      "Read 152917 from https://www.detik.com\nRead 152917 from https://www.detik.com\nRead 152917 from https://www.detik.com\n",
      "Read 152917 from https://www.detik.com\n",
      "Read 152917 from https://www.detik.com\nRead 152917 from https://www.detik.com\nRead 152917 from https://www.detik.com\n",
      "Read 152917 from https://www.detik.com\nRead 152917 from https://www.detik.com\n",
      "Read 152917 from https://www.detik.com\nRead 152917 from https://www.detik.com\n",
      "Read 152917 from https://www.detik.com\nRead 152917 from https://www.detik.com\n",
      "Read 152917 from https://www.detik.com\nRead 152917 from https://www.detik.com",
      "\nRead 152917 from https://www.detik.com\n",
      "Read 152917 from https://www.detik.com\nRead 152917 from https://www.detik.com\nRead 152917 from https://www.detik.com\n",
      "Read 152917 from https://www.detik.com\nRead 152917 from https://www.detik.com\n",
      "Read 152917 from https://www.detik.com\nDownloaded 80 in 15.64554762840271 seconds\n"
     ],
     "output_type": "stream"
    }
   ],
   "source": [
    "import requests\n",
    "import time\n",
    "\n",
    "def download_site(url, session):\n",
    "    with session.get(url) as response:\n",
    "        print(f\"Read {len(response.content)} from {url}\")\n",
    "\n",
    "\n",
    "def download_all_sites(sites):\n",
    "    with requests.Session() as session:\n",
    "        for url in sites:\n",
    "            download_site(url, session)\n",
    "\n",
    "\n",
    "if __name__ == \"__main__\":\n",
    "    sites = [\n",
    "        \"https://www.detik.com\",\n",
    "\n",
    "    ] * 80\n",
    "    start_time = time.time()\n",
    "    download_all_sites(sites)\n",
    "    duration = time.time() - start_time\n",
    "    print(f\"Downloaded {len(sites)} in {duration} seconds\")"
   ]
  },
  {
   "cell_type": "code",
   "execution_count": null,
   "outputs": [],
   "source": [
    "\n"
   ],
   "metadata": {
    "collapsed": false,
    "pycharm": {
     "name": "#%%\n"
    }
   }
  }
 ],
 "metadata": {
  "kernelspec": {
   "display_name": "Python 3",
   "language": "python",
   "name": "python3"
  },
  "language_info": {
   "codemirror_mode": {
    "name": "ipython",
    "version": 2
   },
   "file_extension": ".py",
   "mimetype": "text/x-python",
   "name": "python",
   "nbconvert_exporter": "python",
   "pygments_lexer": "ipython2",
   "version": "2.7.6"
  },
  "pycharm": {
   "stem_cell": {
    "cell_type": "raw",
    "source": [],
    "metadata": {
     "collapsed": false
    }
   }
  }
 },
 "nbformat": 4,
 "nbformat_minor": 0
}