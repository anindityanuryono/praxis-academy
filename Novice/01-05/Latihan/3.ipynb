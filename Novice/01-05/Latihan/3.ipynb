{
 "cells": [
  {
   "cell_type": "code",
   "execution_count": 2,
   "metadata": {},
   "outputs": [],
   "source": [
    "import pickle\n",
    "class Foo:\n",
    "    attr = 'A class attribute'\n",
    "\n",
    "picklestring = pickle.dumps(Foo)"
   ]
  },
  {
   "cell_type": "code",
   "execution_count": 3,
   "metadata": {},
   "outputs": [],
   "source": [
    "def save(obj):\n",
    "    return (obj.__class__, obj.__dict__)\n",
    "\n",
    "def load(cls, attributes):\n",
    "    obj = cls.__new__(cls)\n",
    "    obj.__dict__.update(attributes)\n",
    "    return obj"
   ]
  },
  {
   "cell_type": "code",
   "execution_count": 4,
   "metadata": {},
   "outputs": [
    {
     "name": "stdout",
     "output_type": "stream",
     "text": [
      "Pickled records:\n",
      "[MemoRecord(key=1, task='give food to fish'),\n",
      " MemoRecord(key=2, task='prepare group meeting'),\n",
      " MemoRecord(key=3, task='fight with a zebra')]\n",
      "Unpickled records:\n",
      "[MemoRecord(key=1, task='learn italian'),\n",
      " MemoRecord(key=2, task='prepare group meeting'),\n",
      " MemoRecord(key=3, task='fight with a zebra')]\n"
     ]
    }
   ],
   "source": [
    "# external objects by reference.\n",
    "\n",
    "import pickle\n",
    "import sqlite3\n",
    "from collections import namedtuple\n",
    "\n",
    "# Simple class representing a record in our database.\n",
    "MemoRecord = namedtuple(\"MemoRecord\", \"key, task\")\n",
    "\n",
    "class DBPickler(pickle.Pickler):\n",
    "\n",
    "    def persistent_id(self, obj):\n",
    "        # Instead of pickling MemoRecord as a regular class instance, we emit a\n",
    "        # persistent ID.\n",
    "        if isinstance(obj, MemoRecord):\n",
    "            # Here, our persistent ID is simply a tuple, containing a tag and a\n",
    "            # key, which refers to a specific record in the database.\n",
    "            return (\"MemoRecord\", obj.key)\n",
    "        else:\n",
    "            # If obj does not have a persistent ID, return None. This means obj\n",
    "            # needs to be pickled as usual.\n",
    "            return None\n",
    "\n",
    "\n",
    "class DBUnpickler(pickle.Unpickler):\n",
    "\n",
    "    def __init__(self, file, connection):\n",
    "        super().__init__(file)\n",
    "        self.connection = connection\n",
    "\n",
    "    def persistent_load(self, pid):\n",
    "        # This method is invoked whenever a persistent ID is encountered.\n",
    "        # Here, pid is the tuple returned by DBPickler.\n",
    "        cursor = self.connection.cursor()\n",
    "        type_tag, key_id = pid\n",
    "        if type_tag == \"MemoRecord\":\n",
    "            # Fetch the referenced record from the database and return it.\n",
    "            cursor.execute(\"SELECT * FROM memos WHERE key=?\", (str(key_id),))\n",
    "            key, task = cursor.fetchone()\n",
    "            return MemoRecord(key, task)\n",
    "        else:\n",
    "            # Always raises an error if you cannot return the correct object.\n",
    "            # Otherwise, the unpickler will think None is the object referenced\n",
    "            # by the persistent ID.\n",
    "            raise pickle.UnpicklingError(\"unsupported persistent object\")\n",
    "\n",
    "\n",
    "def main():\n",
    "    import io\n",
    "    import pprint\n",
    "\n",
    "    # Initialize and populate our database.\n",
    "    conn = sqlite3.connect(\":memory:\")\n",
    "    cursor = conn.cursor()\n",
    "    cursor.execute(\"CREATE TABLE memos(key INTEGER PRIMARY KEY, task TEXT)\")\n",
    "    tasks = (\n",
    "        'give food to fish',\n",
    "        'prepare group meeting',\n",
    "        'fight with a zebra',\n",
    "        )\n",
    "    for task in tasks:\n",
    "        cursor.execute(\"INSERT INTO memos VALUES(NULL, ?)\", (task,))\n",
    "\n",
    "    # Fetch the records to be pickled.\n",
    "    cursor.execute(\"SELECT * FROM memos\")\n",
    "    memos = [MemoRecord(key, task) for key, task in cursor]\n",
    "    # Save the records using our custom DBPickler.\n",
    "    file = io.BytesIO()\n",
    "    DBPickler(file).dump(memos)\n",
    "\n",
    "    print(\"Pickled records:\")\n",
    "    pprint.pprint(memos)\n",
    "\n",
    "    # Update a record, just for good measure.\n",
    "    cursor.execute(\"UPDATE memos SET task='learn italian' WHERE key=1\")\n",
    "\n",
    "    # Load the records from the pickle data stream.\n",
    "    file.seek(0)\n",
    "    memos = DBUnpickler(file, conn).load()\n",
    "\n",
    "    print(\"Unpickled records:\")\n",
    "    pprint.pprint(memos)\n",
    "\n",
    "\n",
    "if __name__ == '__main__':\n",
    "    main()"
   ]
  },
  {
   "cell_type": "code",
   "execution_count": 12,
   "metadata": {},
   "outputs": [
    {
     "ename": "NameError",
     "evalue": "name 'reduce_SomeClass' is not defined",
     "output_type": "error",
     "traceback": [
      "\u001b[1;31m---------------------------------------------------------------------------\u001b[0m",
      "\u001b[1;31mNameError\u001b[0m                                 Traceback (most recent call last)",
      "\u001b[1;32m<ipython-input-12-78d0fe561aed>\u001b[0m in \u001b[0;36m<module>\u001b[1;34m\u001b[0m\n\u001b[0;32m      6\u001b[0m \u001b[0mp\u001b[0m \u001b[1;33m=\u001b[0m \u001b[0mpickle\u001b[0m\u001b[1;33m.\u001b[0m\u001b[0mPickler\u001b[0m\u001b[1;33m(\u001b[0m\u001b[0mf\u001b[0m\u001b[1;33m)\u001b[0m\u001b[1;33m\u001b[0m\u001b[1;33m\u001b[0m\u001b[0m\n\u001b[0;32m      7\u001b[0m \u001b[0mp\u001b[0m\u001b[1;33m.\u001b[0m\u001b[0mdispatch_table\u001b[0m \u001b[1;33m=\u001b[0m \u001b[0mcopyreg\u001b[0m\u001b[1;33m.\u001b[0m\u001b[0mdispatch_table\u001b[0m\u001b[1;33m.\u001b[0m\u001b[0mcopy\u001b[0m\u001b[1;33m(\u001b[0m\u001b[1;33m)\u001b[0m\u001b[1;33m\u001b[0m\u001b[1;33m\u001b[0m\u001b[0m\n\u001b[1;32m----> 8\u001b[1;33m \u001b[0mp\u001b[0m\u001b[1;33m.\u001b[0m\u001b[0mdispatch_table\u001b[0m\u001b[1;33m[\u001b[0m\u001b[0mSomeClass\u001b[0m\u001b[1;33m]\u001b[0m \u001b[1;33m=\u001b[0m \u001b[0mreduce_SomeClass\u001b[0m\u001b[1;33m\u001b[0m\u001b[1;33m\u001b[0m\u001b[0m\n\u001b[0m",
      "\u001b[1;31mNameError\u001b[0m: name 'reduce_SomeClass' is not defined"
     ]
    }
   ],
   "source": [
    "import copyreg, copy, pickle, io\n",
    "\n",
    "from io import BytesIO\n",
    "\n",
    "f = io.BytesIO()\n",
    "p = pickle.Pickler(f)\n",
    "p.dispatch_table = copyreg.dispatch_table.copy()\n",
    "p.dispatch_table[SomeClass] = reduce_SomeClass"
   ]
  },
  {
   "cell_type": "code",
   "execution_count": 13,
   "metadata": {},
   "outputs": [
    {
     "ename": "NameError",
     "evalue": "name 'reduce_SomeClass' is not defined",
     "output_type": "error",
     "traceback": [
      "\u001b[1;31m---------------------------------------------------------------------------\u001b[0m",
      "\u001b[1;31mNameError\u001b[0m                                 Traceback (most recent call last)",
      "\u001b[1;32m<ipython-input-13-6c415771a7ae>\u001b[0m in \u001b[0;36m<module>\u001b[1;34m\u001b[0m\n\u001b[1;32m----> 1\u001b[1;33m \u001b[1;32mclass\u001b[0m \u001b[0mMyPickler\u001b[0m\u001b[1;33m(\u001b[0m\u001b[0mpickle\u001b[0m\u001b[1;33m.\u001b[0m\u001b[0mPickler\u001b[0m\u001b[1;33m)\u001b[0m\u001b[1;33m:\u001b[0m\u001b[1;33m\u001b[0m\u001b[1;33m\u001b[0m\u001b[0m\n\u001b[0m\u001b[0;32m      2\u001b[0m     \u001b[0mdispatch_table\u001b[0m \u001b[1;33m=\u001b[0m \u001b[0mcopyreg\u001b[0m\u001b[1;33m.\u001b[0m\u001b[0mdispatch_table\u001b[0m\u001b[1;33m.\u001b[0m\u001b[0mcopy\u001b[0m\u001b[1;33m(\u001b[0m\u001b[1;33m)\u001b[0m\u001b[1;33m\u001b[0m\u001b[1;33m\u001b[0m\u001b[0m\n\u001b[0;32m      3\u001b[0m     \u001b[0mdispatch_table\u001b[0m\u001b[1;33m[\u001b[0m\u001b[0mSomeClass\u001b[0m\u001b[1;33m]\u001b[0m \u001b[1;33m=\u001b[0m \u001b[0mreduce_SomeClass\u001b[0m\u001b[1;33m\u001b[0m\u001b[1;33m\u001b[0m\u001b[0m\n\u001b[0;32m      4\u001b[0m \u001b[0mf\u001b[0m \u001b[1;33m=\u001b[0m \u001b[0mio\u001b[0m\u001b[1;33m.\u001b[0m\u001b[0mBytesIO\u001b[0m\u001b[1;33m(\u001b[0m\u001b[1;33m)\u001b[0m\u001b[1;33m\u001b[0m\u001b[1;33m\u001b[0m\u001b[0m\n\u001b[0;32m      5\u001b[0m \u001b[0mp\u001b[0m \u001b[1;33m=\u001b[0m \u001b[0mMyPickler\u001b[0m\u001b[1;33m(\u001b[0m\u001b[0mf\u001b[0m\u001b[1;33m)\u001b[0m\u001b[1;33m\u001b[0m\u001b[1;33m\u001b[0m\u001b[0m\n",
      "\u001b[1;32m<ipython-input-13-6c415771a7ae>\u001b[0m in \u001b[0;36mMyPickler\u001b[1;34m()\u001b[0m\n\u001b[0;32m      1\u001b[0m \u001b[1;32mclass\u001b[0m \u001b[0mMyPickler\u001b[0m\u001b[1;33m(\u001b[0m\u001b[0mpickle\u001b[0m\u001b[1;33m.\u001b[0m\u001b[0mPickler\u001b[0m\u001b[1;33m)\u001b[0m\u001b[1;33m:\u001b[0m\u001b[1;33m\u001b[0m\u001b[1;33m\u001b[0m\u001b[0m\n\u001b[0;32m      2\u001b[0m     \u001b[0mdispatch_table\u001b[0m \u001b[1;33m=\u001b[0m \u001b[0mcopyreg\u001b[0m\u001b[1;33m.\u001b[0m\u001b[0mdispatch_table\u001b[0m\u001b[1;33m.\u001b[0m\u001b[0mcopy\u001b[0m\u001b[1;33m(\u001b[0m\u001b[1;33m)\u001b[0m\u001b[1;33m\u001b[0m\u001b[1;33m\u001b[0m\u001b[0m\n\u001b[1;32m----> 3\u001b[1;33m     \u001b[0mdispatch_table\u001b[0m\u001b[1;33m[\u001b[0m\u001b[0mSomeClass\u001b[0m\u001b[1;33m]\u001b[0m \u001b[1;33m=\u001b[0m \u001b[0mreduce_SomeClass\u001b[0m\u001b[1;33m\u001b[0m\u001b[1;33m\u001b[0m\u001b[0m\n\u001b[0m\u001b[0;32m      4\u001b[0m \u001b[0mf\u001b[0m \u001b[1;33m=\u001b[0m \u001b[0mio\u001b[0m\u001b[1;33m.\u001b[0m\u001b[0mBytesIO\u001b[0m\u001b[1;33m(\u001b[0m\u001b[1;33m)\u001b[0m\u001b[1;33m\u001b[0m\u001b[1;33m\u001b[0m\u001b[0m\n\u001b[0;32m      5\u001b[0m \u001b[0mp\u001b[0m \u001b[1;33m=\u001b[0m \u001b[0mMyPickler\u001b[0m\u001b[1;33m(\u001b[0m\u001b[0mf\u001b[0m\u001b[1;33m)\u001b[0m\u001b[1;33m\u001b[0m\u001b[1;33m\u001b[0m\u001b[0m\n",
      "\u001b[1;31mNameError\u001b[0m: name 'reduce_SomeClass' is not defined"
     ]
    }
   ],
   "source": [
    "class MyPickler(pickle.Pickler):\n",
    "    dispatch_table = copyreg.dispatch_table.copy()\n",
    "    dispatch_table[SomeClass] = reduce_SomeClass\n",
    "f = io.BytesIO()\n",
    "p = MyPickler(f)"
   ]
  },
  {
   "cell_type": "code",
   "execution_count": 14,
   "metadata": {},
   "outputs": [
    {
     "ename": "NameError",
     "evalue": "name 'SomeClass' is not defined",
     "output_type": "error",
     "traceback": [
      "\u001b[1;31m---------------------------------------------------------------------------\u001b[0m",
      "\u001b[1;31mNameError\u001b[0m                                 Traceback (most recent call last)",
      "\u001b[1;32m<ipython-input-14-fdb2431217d0>\u001b[0m in \u001b[0;36m<module>\u001b[1;34m\u001b[0m\n\u001b[1;32m----> 1\u001b[1;33m \u001b[0mcopyreg\u001b[0m\u001b[1;33m.\u001b[0m\u001b[0mpickle\u001b[0m\u001b[1;33m(\u001b[0m\u001b[0mSomeClass\u001b[0m\u001b[1;33m,\u001b[0m \u001b[0mreduce_SomeClass\u001b[0m\u001b[1;33m)\u001b[0m\u001b[1;33m\u001b[0m\u001b[1;33m\u001b[0m\u001b[0m\n\u001b[0m\u001b[0;32m      2\u001b[0m \u001b[0mf\u001b[0m \u001b[1;33m=\u001b[0m \u001b[0mio\u001b[0m\u001b[1;33m.\u001b[0m\u001b[0mBytesIO\u001b[0m\u001b[1;33m(\u001b[0m\u001b[1;33m)\u001b[0m\u001b[1;33m\u001b[0m\u001b[1;33m\u001b[0m\u001b[0m\n\u001b[0;32m      3\u001b[0m \u001b[0mp\u001b[0m \u001b[1;33m=\u001b[0m \u001b[0mpickle\u001b[0m\u001b[1;33m.\u001b[0m\u001b[0mPickler\u001b[0m\u001b[1;33m(\u001b[0m\u001b[0mf\u001b[0m\u001b[1;33m)\u001b[0m\u001b[1;33m\u001b[0m\u001b[1;33m\u001b[0m\u001b[0m\n",
      "\u001b[1;31mNameError\u001b[0m: name 'SomeClass' is not defined"
     ]
    }
   ],
   "source": [
    "copyreg.pickle(SomeClass, reduce_SomeClass)\n",
    "f = io.BytesIO()\n",
    "p = pickle.Pickler(f)"
   ]
  },
  {
   "cell_type": "code",
   "execution_count": 15,
   "metadata": {},
   "outputs": [],
   "source": [
    "class TextReader:\n",
    "    \"\"\"Print and number lines in a text file.\"\"\"\n",
    "\n",
    "    def __init__(self, filename):\n",
    "        self.filename = filename\n",
    "        self.file = open(filename)\n",
    "        self.lineno = 0\n",
    "\n",
    "    def readline(self):\n",
    "        self.lineno += 1\n",
    "        line = self.file.readline()\n",
    "        if not line:\n",
    "            return None\n",
    "        if line.endswith('\\n'):\n",
    "            line = line[:-1]\n",
    "        return \"%i: %s\" % (self.lineno, line)\n",
    "\n",
    "    def __getstate__(self):\n",
    "        # Copy the object's state from self.__dict__ which contains\n",
    "        # all our instance attributes. Always use the dict.copy()\n",
    "        # method to avoid modifying the original state.\n",
    "        state = self.__dict__.copy()\n",
    "        # Remove the unpicklable entries.\n",
    "        del state['file']\n",
    "        return state\n",
    "\n",
    "    def __setstate__(self, state):\n",
    "        # Restore instance attributes (i.e., filename and lineno).\n",
    "        self.__dict__.update(state)\n",
    "        # Restore the previously opened file's state. To do so, we need to\n",
    "        # reopen it and read from it until the line count is restored.\n",
    "        file = open(self.filename)\n",
    "        for _ in range(self.lineno):\n",
    "            file.readline()\n",
    "        # Finally, save the file.\n",
    "        self.file = file"
   ]
  },
  {
   "cell_type": "code",
   "execution_count": 17,
   "metadata": {},
   "outputs": [
    {
     "ename": "AttributeError",
     "evalue": "Can't get attribute 'MyClass' on <module '__main__'>",
     "output_type": "error",
     "traceback": [
      "\u001b[1;31m---------------------------------------------------------------------------\u001b[0m",
      "\u001b[1;31mAttributeError\u001b[0m                            Traceback (most recent call last)",
      "\u001b[1;32m<ipython-input-17-bd6ae75db652>\u001b[0m in \u001b[0;36m<module>\u001b[1;34m\u001b[0m\n\u001b[0;32m     20\u001b[0m \u001b[1;32mdel\u001b[0m \u001b[0mMyClass\u001b[0m\u001b[1;33m\u001b[0m\u001b[1;33m\u001b[0m\u001b[0m\n\u001b[0;32m     21\u001b[0m \u001b[1;33m\u001b[0m\u001b[0m\n\u001b[1;32m---> 22\u001b[1;33m \u001b[0munpickled_class\u001b[0m \u001b[1;33m=\u001b[0m \u001b[0mpickle\u001b[0m\u001b[1;33m.\u001b[0m\u001b[0mloads\u001b[0m\u001b[1;33m(\u001b[0m\u001b[0mf\u001b[0m\u001b[1;33m.\u001b[0m\u001b[0mgetvalue\u001b[0m\u001b[1;33m(\u001b[0m\u001b[1;33m)\u001b[0m\u001b[1;33m)\u001b[0m\u001b[1;33m\u001b[0m\u001b[1;33m\u001b[0m\u001b[0m\n\u001b[0m\u001b[0;32m     23\u001b[0m \u001b[1;33m\u001b[0m\u001b[0m\n\u001b[0;32m     24\u001b[0m \u001b[1;32massert\u001b[0m \u001b[0misinstance\u001b[0m\u001b[1;33m(\u001b[0m\u001b[0munpickled_class\u001b[0m\u001b[1;33m,\u001b[0m \u001b[0mtype\u001b[0m\u001b[1;33m)\u001b[0m\u001b[1;33m\u001b[0m\u001b[1;33m\u001b[0m\u001b[0m\n",
      "\u001b[1;31mAttributeError\u001b[0m: Can't get attribute 'MyClass' on <module '__main__'>"
     ]
    }
   ],
   "source": [
    "import pickle\n",
    "\n",
    "class MyClass:\n",
    "    my_attribute = 1\n",
    "\n",
    "class MyPickler(pickle.Pickler):\n",
    "    def reducer_override(self, obj):\n",
    "        \"\"\"Custom reducer for MyClass.\"\"\"\n",
    "        if getattr(obj, \"__name__\", None) == \"MyClass\":\n",
    "            return type, (obj.__name__, obj.__bases__,\n",
    "                          {'my_attribute': obj.my_attribute})\n",
    "        else:\n",
    "            # For any other object, fallback to usual reduction\n",
    "            return NotImplemented\n",
    "\n",
    "f = io.BytesIO()\n",
    "p = MyPickler(f)\n",
    "p.dump(MyClass)\n",
    "\n",
    "del MyClass\n",
    "\n",
    "unpickled_class = pickle.loads(f.getvalue())\n",
    "\n",
    "assert isinstance(unpickled_class, type)\n",
    "assert unpickled_class.__name__ == \"MyClass\"\n",
    "assert unpickled_class.my_attribute == 1"
   ]
  },
  {
   "cell_type": "code",
   "execution_count": 18,
   "metadata": {},
   "outputs": [],
   "source": [
    "class ZeroCopyByteArray(bytearray):\n",
    "\n",
    "    def __reduce_ex__(self, protocol):\n",
    "        if protocol >= 5:\n",
    "            return type(self)._reconstruct, (PickleBuffer(self),), None\n",
    "        else:\n",
    "            # PickleBuffer is forbidden with pickle protocols <= 4.\n",
    "            return type(self)._reconstruct, (bytearray(self),)\n",
    "\n",
    "    @classmethod\n",
    "    def _reconstruct(cls, obj):\n",
    "        with memoryview(obj) as m:\n",
    "            # Get a handle over the original buffer object\n",
    "            obj = m.obj\n",
    "            if type(obj) is cls:\n",
    "                # Original buffer object is a ZeroCopyByteArray, return it\n",
    "                # as-is.\n",
    "                return obj\n",
    "            else:\n",
    "                return cls(obj)"
   ]
  },
  {
   "cell_type": "code",
   "execution_count": 19,
   "metadata": {},
   "outputs": [
    {
     "ename": "ValueError",
     "evalue": "pickle protocol must be <= 4",
     "output_type": "error",
     "traceback": [
      "\u001b[1;31m---------------------------------------------------------------------------\u001b[0m",
      "\u001b[1;31mValueError\u001b[0m                                Traceback (most recent call last)",
      "\u001b[1;32m<ipython-input-19-d2b41fc9c69e>\u001b[0m in \u001b[0;36m<module>\u001b[1;34m\u001b[0m\n\u001b[0;32m      1\u001b[0m \u001b[0mb\u001b[0m \u001b[1;33m=\u001b[0m \u001b[0mZeroCopyByteArray\u001b[0m\u001b[1;33m(\u001b[0m\u001b[1;34mb\"abc\"\u001b[0m\u001b[1;33m)\u001b[0m\u001b[1;33m\u001b[0m\u001b[1;33m\u001b[0m\u001b[0m\n\u001b[1;32m----> 2\u001b[1;33m \u001b[0mdata\u001b[0m \u001b[1;33m=\u001b[0m \u001b[0mpickle\u001b[0m\u001b[1;33m.\u001b[0m\u001b[0mdumps\u001b[0m\u001b[1;33m(\u001b[0m\u001b[0mb\u001b[0m\u001b[1;33m,\u001b[0m \u001b[0mprotocol\u001b[0m\u001b[1;33m=\u001b[0m\u001b[1;36m5\u001b[0m\u001b[1;33m)\u001b[0m\u001b[1;33m\u001b[0m\u001b[1;33m\u001b[0m\u001b[0m\n\u001b[0m\u001b[0;32m      3\u001b[0m \u001b[0mnew_b\u001b[0m \u001b[1;33m=\u001b[0m \u001b[0mpickle\u001b[0m\u001b[1;33m.\u001b[0m\u001b[0mloads\u001b[0m\u001b[1;33m(\u001b[0m\u001b[0mdata\u001b[0m\u001b[1;33m)\u001b[0m\u001b[1;33m\u001b[0m\u001b[1;33m\u001b[0m\u001b[0m\n\u001b[0;32m      4\u001b[0m \u001b[0mprint\u001b[0m\u001b[1;33m(\u001b[0m\u001b[0mb\u001b[0m \u001b[1;33m==\u001b[0m \u001b[0mnew_b\u001b[0m\u001b[1;33m)\u001b[0m  \u001b[1;31m# True\u001b[0m\u001b[1;33m\u001b[0m\u001b[1;33m\u001b[0m\u001b[0m\n\u001b[0;32m      5\u001b[0m \u001b[0mprint\u001b[0m\u001b[1;33m(\u001b[0m\u001b[0mb\u001b[0m \u001b[1;32mis\u001b[0m \u001b[0mnew_b\u001b[0m\u001b[1;33m)\u001b[0m  \u001b[1;31m# False: a copy was made\u001b[0m\u001b[1;33m\u001b[0m\u001b[1;33m\u001b[0m\u001b[0m\n",
      "\u001b[1;31mValueError\u001b[0m: pickle protocol must be <= 4"
     ]
    }
   ],
   "source": [
    "b = ZeroCopyByteArray(b\"abc\")\n",
    "data = pickle.dumps(b, protocol=5)\n",
    "new_b = pickle.loads(data)\n",
    "print(b == new_b)  # True\n",
    "print(b is new_b)  # False: a copy was made"
   ]
  },
  {
   "cell_type": "code",
   "execution_count": 20,
   "metadata": {},
   "outputs": [
    {
     "ename": "TypeError",
     "evalue": "'buffer_callback' is an invalid keyword argument for dumps()",
     "output_type": "error",
     "traceback": [
      "\u001b[1;31m---------------------------------------------------------------------------\u001b[0m",
      "\u001b[1;31mTypeError\u001b[0m                                 Traceback (most recent call last)",
      "\u001b[1;32m<ipython-input-20-cecf2792ab4b>\u001b[0m in \u001b[0;36m<module>\u001b[1;34m\u001b[0m\n\u001b[0;32m      1\u001b[0m \u001b[0mb\u001b[0m \u001b[1;33m=\u001b[0m \u001b[0mZeroCopyByteArray\u001b[0m\u001b[1;33m(\u001b[0m\u001b[1;34mb\"abc\"\u001b[0m\u001b[1;33m)\u001b[0m\u001b[1;33m\u001b[0m\u001b[1;33m\u001b[0m\u001b[0m\n\u001b[0;32m      2\u001b[0m \u001b[0mbuffers\u001b[0m \u001b[1;33m=\u001b[0m \u001b[1;33m[\u001b[0m\u001b[1;33m]\u001b[0m\u001b[1;33m\u001b[0m\u001b[1;33m\u001b[0m\u001b[0m\n\u001b[1;32m----> 3\u001b[1;33m \u001b[0mdata\u001b[0m \u001b[1;33m=\u001b[0m \u001b[0mpickle\u001b[0m\u001b[1;33m.\u001b[0m\u001b[0mdumps\u001b[0m\u001b[1;33m(\u001b[0m\u001b[0mb\u001b[0m\u001b[1;33m,\u001b[0m \u001b[0mprotocol\u001b[0m\u001b[1;33m=\u001b[0m\u001b[1;36m5\u001b[0m\u001b[1;33m,\u001b[0m \u001b[0mbuffer_callback\u001b[0m\u001b[1;33m=\u001b[0m\u001b[0mbuffers\u001b[0m\u001b[1;33m.\u001b[0m\u001b[0mappend\u001b[0m\u001b[1;33m)\u001b[0m\u001b[1;33m\u001b[0m\u001b[1;33m\u001b[0m\u001b[0m\n\u001b[0m\u001b[0;32m      4\u001b[0m \u001b[0mnew_b\u001b[0m \u001b[1;33m=\u001b[0m \u001b[0mpickle\u001b[0m\u001b[1;33m.\u001b[0m\u001b[0mloads\u001b[0m\u001b[1;33m(\u001b[0m\u001b[0mdata\u001b[0m\u001b[1;33m,\u001b[0m \u001b[0mbuffers\u001b[0m\u001b[1;33m=\u001b[0m\u001b[0mbuffers\u001b[0m\u001b[1;33m)\u001b[0m\u001b[1;33m\u001b[0m\u001b[1;33m\u001b[0m\u001b[0m\n\u001b[0;32m      5\u001b[0m \u001b[0mprint\u001b[0m\u001b[1;33m(\u001b[0m\u001b[0mb\u001b[0m \u001b[1;33m==\u001b[0m \u001b[0mnew_b\u001b[0m\u001b[1;33m)\u001b[0m  \u001b[1;31m# True\u001b[0m\u001b[1;33m\u001b[0m\u001b[1;33m\u001b[0m\u001b[0m\n",
      "\u001b[1;31mTypeError\u001b[0m: 'buffer_callback' is an invalid keyword argument for dumps()"
     ]
    }
   ],
   "source": [
    "b = ZeroCopyByteArray(b\"abc\")\n",
    "buffers = []\n",
    "data = pickle.dumps(b, protocol=5, buffer_callback=buffers.append)\n",
    "new_b = pickle.loads(data, buffers=buffers)\n",
    "print(b == new_b)  # True\n",
    "print(b is new_b)  # True: no copy was made"
   ]
  },
  {
   "cell_type": "code",
   "execution_count": 21,
   "metadata": {},
   "outputs": [],
   "source": [
    "import builtins\n",
    "import io\n",
    "import pickle\n",
    "\n",
    "safe_builtins = {\n",
    "    'range',\n",
    "    'complex',\n",
    "    'set',\n",
    "    'frozenset',\n",
    "    'slice',\n",
    "}\n",
    "\n",
    "class RestrictedUnpickler(pickle.Unpickler):\n",
    "\n",
    "    def find_class(self, module, name):\n",
    "        # Only allow safe classes from builtins.\n",
    "        if module == \"builtins\" and name in safe_builtins:\n",
    "            return getattr(builtins, name)\n",
    "        # Forbid everything else.\n",
    "        raise pickle.UnpicklingError(\"global '%s.%s' is forbidden\" %\n",
    "                                     (module, name))\n",
    "\n",
    "def restricted_loads(s):\n",
    "    \"\"\"Helper function analogous to pickle.loads().\"\"\"\n",
    "    return RestrictedUnpickler(io.BytesIO(s)).load()"
   ]
  },
  {
   "cell_type": "code",
   "execution_count": 23,
   "metadata": {},
   "outputs": [],
   "source": [
    "import pickle\n",
    "\n",
    "# An arbitrary collection of objects supported by pickle.\n",
    "data = {\n",
    "    'a': [1, 2.0, 3, 4+6j],\n",
    "    'b': (\"character string\", b\"byte string\"),\n",
    "    'c': {None, True, False}\n",
    "}\n",
    "\n",
    "with open('data.pickle', 'wb') as f:\n",
    "    # Pickle the 'data' dictionary using the highest protocol available.\n",
    "    pickle.dump(data, f, pickle.HIGHEST_PROTOCOL)"
   ]
  },
  {
   "cell_type": "code",
   "execution_count": 24,
   "metadata": {},
   "outputs": [],
   "source": [
    "import pickle\n",
    "\n",
    "with open('data.pickle', 'rb') as f:\n",
    "    # The protocol version used is detected automatically, so we do not\n",
    "    # have to specify it.\n",
    "    data = pickle.load(f)"
   ]
  },
  {
   "cell_type": "code",
   "execution_count": null,
   "metadata": {},
   "outputs": [],
   "source": []
  }
 ],
 "metadata": {
  "kernelspec": {
   "display_name": "Python 3",
   "language": "python",
   "name": "python3"
  },
  "language_info": {
   "codemirror_mode": {
    "name": "ipython",
    "version": 3
   },
   "file_extension": ".py",
   "mimetype": "text/x-python",
   "name": "python",
   "nbconvert_exporter": "python",
   "pygments_lexer": "ipython3",
   "version": "3.7.4"
  }
 },
 "nbformat": 4,
 "nbformat_minor": 2
}
